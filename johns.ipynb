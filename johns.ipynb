{
 "cells": [
  {
   "cell_type": "code",
   "execution_count": 240,
   "metadata": {},
   "outputs": [],
   "source": [
    "from functools import partial\n",
    "import numpy as np\n",
    "import numpy.linalg as la\n",
    "\n",
    "from scipy.optimize import minimize\n",
    "\n",
    "from algorithms.algorithm import Algorithm\n",
    "from distributions.sequence import Sequence\n",
    "from misc.matrix_geometric_resampling import matrix_geometric_resampling"
   ]
  },
  {
   "cell_type": "code",
   "execution_count": 241,
   "metadata": {},
   "outputs": [],
   "source": [
    "def mvee(points, tol=0.0001):\n",
    "    \"\"\"\n",
    "    Finds the ellipse equation in \"center form\"\n",
    "    (x-c).T * A * (x-c) = 1\n",
    "    \"\"\"\n",
    "    N, d = points.shape\n",
    "    Q = np.column_stack((points, np.ones(N))).T\n",
    "    err = tol+1.0\n",
    "    u = np.ones(N)/N\n",
    "    while err > tol:\n",
    "        # assert u.sum() == 1 # invariant\n",
    "        X = np.dot(np.dot(Q, np.diag(u)), Q.T)\n",
    "        M = np.diag(np.dot(np.dot(Q.T, la.inv(X)), Q))\n",
    "        jdx = np.argmax(M)\n",
    "        step_size = (M[jdx]-d-1.0)/((d+1)*(M[jdx]-1.0))\n",
    "        new_u = (1-step_size)*u\n",
    "        new_u[jdx] += step_size\n",
    "        err = la.norm(new_u-u)\n",
    "        u = new_u\n",
    "    c = np.dot(u, points)\n",
    "    A = la.inv(np.dot(np.dot(points.T, np.diag(u)), points)\n",
    "               - np.multiply.outer(c, c))/d\n",
    "    return A, c\n",
    "\n",
    "def distance_to_ellipsoid_boundary(ellipsoid_H, ellipsoid_center, point: np.ndarray) -> float:\n",
    "    return (ellipsoid_center - point) @ ellipsoid_H @ (ellipsoid_center - point) - 1\n",
    "\n",
    "def find_johns(actionset, tolerance=1e-5):\n",
    "    ellipsoid_H, ellipsoid_center = mvee(actionset, tolerance)\n",
    "\n",
    "    boundary_points = []\n",
    "    for index, point in enumerate(actionset):\n",
    "        if distance_to_ellipsoid_boundary(ellipsoid_H, ellipsoid_center, point) <= tolerance:\n",
    "            boundary_points.append(index)\n",
    "    boundary_points = np.array(boundary_points)\n",
    "    return boundary_points, ellipsoid_center\n"
   ]
  },
  {
   "cell_type": "code",
   "execution_count": 242,
   "metadata": {},
   "outputs": [
    {
     "name": "stdout",
     "output_type": "stream",
     "text": [
      "[[ True  True False]\n",
      " [False  True  True]\n",
      " [ True False  True]\n",
      " [ True  True  True]]\n",
      "(array([0, 1, 2, 3]), array([0.75, 0.75, 0.75]))\n"
     ]
    }
   ],
   "source": [
    "K = 3\n",
    "actionset = []\n",
    "for i in range(K):\n",
    "    buffer = np.zeros(K, dtype=bool)\n",
    "    buffer[i] = 1\n",
    "    buffer[(i+1)%K] = 1\n",
    "    actionset.append(buffer)\n",
    "actionset.append(np.ones(K, dtype=bool))\n",
    "actionset = np.array(actionset)\n",
    "\n",
    "print(actionset)\n",
    "print(find_johns(actionset))"
   ]
  },
  {
   "cell_type": "code",
   "execution_count": 243,
   "metadata": {},
   "outputs": [
    {
     "name": "stdout",
     "output_type": "stream",
     "text": [
      "[[1. 1. 0.]\n",
      " [1. 1. 0.]\n",
      " [0. 0. 0.]] [ True  True False]\n",
      "[[0. 0. 0.]\n",
      " [0. 1. 1.]\n",
      " [0. 1. 1.]] [False  True  True]\n",
      "[[1. 0. 1.]\n",
      " [0. 0. 0.]\n",
      " [1. 0. 1.]] [ True False  True]\n",
      "[[1. 1. 1.]\n",
      " [1. 1. 1.]\n",
      " [1. 1. 1.]] [ True  True  True]\n"
     ]
    }
   ],
   "source": [
    "boundary_points, center = find_johns(actionset)\n",
    "#boundary_points = np.arange(len(actionset))\n",
    "\n",
    "boundary_point_matrices = np.zeros((len(boundary_points), K, K))\n",
    "for i in range(len(boundary_points)):\n",
    "    boundary_point_matrices[i] = actionset[i].reshape(-1, 1) @ actionset[i].reshape(1, -1)\n",
    "    print(boundary_point_matrices[i], actionset[i])\n",
    "\n",
    "def fun(mu):\n",
    "    new_id = np.zeros((K, K))\n",
    "    for j in range(len(mu)):\n",
    "        new_id += K * mu[j] * boundary_point_matrices[j]\n",
    "\n",
    "    return np.linalg.norm(new_id - np.identity(K))"
   ]
  },
  {
   "cell_type": "code",
   "execution_count": 244,
   "metadata": {},
   "outputs": [
    {
     "name": "stdout",
     "output_type": "stream",
     "text": [
      "     fun: 3.000000000042085\n",
      "     jac: array([3.99997902, 4.00000364, 4.00001746])\n",
      " message: 'Optimization terminated successfully.'\n",
      "    nfev: 37\n",
      "     nit: 7\n",
      "    njev: 7\n",
      "  status: 0\n",
      " success: True\n",
      "       x: array([0.333331  , 0.33333373, 0.33333527])\n"
     ]
    }
   ],
   "source": [
    "bnds = []\n",
    "for i in range(K):\n",
    "    bnds.append((0, 1))\n",
    "\n",
    "cons = {'type':'eq', 'fun': lambda x: np.sum(x) - 1}\n",
    "\n",
    "sol = minimize(fun, x0=np.random.random(K), bounds=bnds, constraints=cons)\n",
    "print(sol)"
   ]
  },
  {
   "cell_type": "code",
   "execution_count": 245,
   "metadata": {},
   "outputs": [
    {
     "name": "stdout",
     "output_type": "stream",
     "text": [
      "0.33333099895849055 [[1. 1. 0.]\n",
      " [1. 1. 0.]\n",
      " [0. 0. 0.]]\n",
      "0.3333337329978814 [[0. 0. 0.]\n",
      " [0. 1. 1.]\n",
      " [0. 1. 1.]]\n",
      "0.3333352680436281 [[1. 0. 1.]\n",
      " [0. 0. 0.]\n",
      " [1. 0. 1.]]\n",
      "[[1.9999988 0.999993  1.0000058]\n",
      " [0.999993  1.9999942 1.0000012]\n",
      " [1.0000058 1.0000012 2.000007 ]]\n",
      "(10,)\n",
      "120022.02765887424 12002.202765887425 43379.24006579197\n"
     ]
    }
   ],
   "source": [
    "solution = sol.x\n",
    "\n",
    "new_id = np.zeros((K, K))\n",
    "for j in range(len(solution)):\n",
    "    print(solution[j], boundary_point_matrices[j])\n",
    "    new_id += K * solution[j] * boundary_point_matrices[j]\n",
    "\n",
    "print(new_id)\n",
    "\n",
    "check_num = 10\n",
    "x = (np.random.random((K, check_num)) * 2 - 1) * 1e+4\n",
    "\n",
    "x_new = np.zeros((K, check_num))\n",
    "for j in range(len(solution)):\n",
    "    x_new += K * solution[j] * boundary_point_matrices[j] @ x\n",
    "total = np.linalg.norm(x_new - x, axis=0)\n",
    "print(total.shape)\n",
    "\n",
    "print(np.sum(total), np.sum(total) / check_num, np.max(total))"
   ]
  }
 ],
 "metadata": {
  "kernelspec": {
   "display_name": "Python 3.8.3 64-bit",
   "language": "python",
   "name": "python3"
  },
  "language_info": {
   "codemirror_mode": {
    "name": "ipython",
    "version": 3
   },
   "file_extension": ".py",
   "mimetype": "text/x-python",
   "name": "python",
   "nbconvert_exporter": "python",
   "pygments_lexer": "ipython3",
   "version": "3.8.3"
  },
  "orig_nbformat": 4,
  "vscode": {
   "interpreter": {
    "hash": "aee8b7b246df8f9039afb4144a1f6fd8d2ca17a180786b69acc140d282b71a49"
   }
  }
 },
 "nbformat": 4,
 "nbformat_minor": 2
}
