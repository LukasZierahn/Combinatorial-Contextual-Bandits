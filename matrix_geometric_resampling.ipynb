{
 "cells": [
  {
   "cell_type": "code",
   "execution_count": 1,
   "metadata": {},
   "outputs": [],
   "source": [
    "import numpy as np\n",
    "\n",
    "from misc.matrix_geometric_resampling import matrix_geometric_resampling\n",
    "\n",
    "rng = np.random.default_rng()"
   ]
  },
  {
   "cell_type": "code",
   "execution_count": 2,
   "metadata": {},
   "outputs": [
    {
     "name": "stdout",
     "output_type": "stream",
     "text": [
      "[[0.1    0.     0.     0.     0.     0.     0.     0.     0.     0.    ]\n",
      " [0.     0.1    0.     0.     0.     0.     0.     0.     0.     0.    ]\n",
      " [0.     0.     0.1    0.     0.     0.     0.     0.     0.     0.    ]\n",
      " [0.     0.     0.     0.1    0.     0.     0.     0.     0.     0.    ]\n",
      " [0.     0.     0.     0.     0.1    0.     0.     0.     0.     0.    ]\n",
      " [0.     0.     0.     0.     0.     0.1    0.     0.     0.     0.    ]\n",
      " [0.     0.     0.     0.     0.     0.     0.1    0.     0.     0.    ]\n",
      " [0.     0.     0.     0.     0.     0.     0.     0.0975 0.     0.    ]\n",
      " [0.     0.     0.     0.     0.     0.     0.     0.     0.1    0.    ]\n",
      " [0.     0.     0.     0.     0.     0.     0.     0.     0.     0.1   ]]\n"
     ]
    },
    {
     "data": {
      "text/plain": [
       "array(0.09975)"
      ]
     },
     "execution_count": 2,
     "metadata": {},
     "output_type": "execute_result"
    }
   ],
   "source": [
    "n = 10\n",
    "\n",
    "matrix = np.identity(n) / n\n",
    "\n",
    "def unbiased_estimator(rng: np.random.Generator) -> np.ndarray:\n",
    "    index = rng.integers(n)\n",
    "\n",
    "    result = np.zeros((n, n))\n",
    "    result[index, index] = 1\n",
    "\n",
    "    return result\n",
    "    \n",
    "result = matrix_geometric_resampling(rng, 1, 0.05, unbiased_estimator)\n",
    "print(result)\n",
    "np.tensordot(result, matrix, axes=(([0,1], [1,0])))"
   ]
  },
  {
   "cell_type": "code",
   "execution_count": 3,
   "metadata": {},
   "outputs": [],
   "source": [
    "from distributions.distribution_by_sequence import DistributionBySequence\n",
    "from distributions.distribution import Distribution\n",
    "from distributions.sequence import Sequence\n",
    "from algorithms.semi_bandit_exp3 import SemiBanditExp3\n",
    "from algorithms.full_bandit_exp3 import FullBanditExp3\n",
    "from algorithms.semi_bandit_ftrl import SemiBanditFTRL\n",
    "from algorithms.uniform_random import UniformRandom\n",
    "from algorithms.non_contextual_exp3 import NonContextualExp3\n",
    "from experiment_manager.experiment_manager import ExperimentManager\n",
    "\n",
    "from distributions.actionsets.msets import MSets\n",
    "\n",
    "from distributions.contexts.binary_context import BinaryContext\n",
    "from distributions.thetas.single_hole import SingleHole\n",
    "from distributions.thetas.independent_bernoulli import IndependentBernoulli"
   ]
  },
  {
   "cell_type": "code",
   "execution_count": 4,
   "metadata": {},
   "outputs": [
    {
     "name": "stdout",
     "output_type": "stream",
     "text": [
      "epsilon:  0.013693063937629153\n",
      "1.0 2 0.25\n"
     ]
    }
   ],
   "source": [
    "algo = FullBanditExp3()\n",
    "\n",
    "length = 1000\n",
    "d = 3\n",
    "K = 3\n",
    "actionset = MSets(K, 2)\n",
    "\n",
    "epsilon = 0.25 * np.min([np.sqrt(K / length), 1])\n",
    "print(\"epsilon: \", epsilon)\n",
    "p = np.zeros((d, K)) + 0.5\n",
    "for i in range(d):\n",
    "    p[i, 0] -= epsilon\n",
    "\n",
    "dist_lower_bound = Distribution(BinaryContext(d), IndependentBernoulli(d, K, p), actionset)\n",
    "dist_holes = Distribution(BinaryContext(d), SingleHole(d, K, np.array([0.7, 0.3])), actionset)\n",
    "\n",
    "seq = dist_lower_bound.generate(length, rng, rng)\n",
    "algo.set_constants(rng, seq)\n",
    "print(seq.sigma, seq.m, algo.beta)\n",
    "algo.run_on_sequence(rng, seq)\n",
    "None"
   ]
  },
  {
   "cell_type": "code",
   "execution_count": 5,
   "metadata": {},
   "outputs": [
    {
     "name": "stdout",
     "output_type": "stream",
     "text": [
      "0.11011528968811035 [[ 6.40478872  0.          0.         -3.90576338  0.          0.\n",
      "  -2.42341785  0.          0.        ]\n",
      " [ 0.          8.79742664  0.          0.          0.19227039  0.\n",
      "   0.         -5.61493004  0.        ]\n",
      " [ 0.          0.          5.72354187  0.          0.         -0.12645221\n",
      "   0.          0.         -3.38018915]\n",
      " [-2.67159436  0.          0.          4.98284855  0.          0.\n",
      "  -0.42882779  0.          0.        ]\n",
      " [ 0.         -1.49656575  0.          0.          9.69976298  0.\n",
      "   0.         -4.48204748  0.        ]\n",
      " [ 0.          0.         -0.60299018  0.          0.          6.45919873\n",
      "   0.          0.         -1.46564225]\n",
      " [-1.6785429   0.          0.         -1.81270489  0.          0.\n",
      "   4.64531783  0.          0.        ]\n",
      " [ 0.         -2.58240046  0.          0.         -3.64177845  0.\n",
      "   0.          7.79438645  0.        ]\n",
      " [ 0.          0.         -3.86979221  0.          0.         -1.79434759\n",
      "   0.          0.          6.24094769]]\n",
      "[[0.44815039 0.44054334 0.44916406]\n",
      " [0.44054334 0.43501799 0.44303618]\n",
      " [0.44916406 0.44303618 0.45134446]]\n",
      "0.0019998550415039062 [[  12007.97138553       0.               0.           30868.38500984\n",
      "        0.               0.          -42250.12661662       0.\n",
      "        0.        ]\n",
      " [      0.           12007.97138553       0.               0.\n",
      "    30868.38500984       0.               0.          -42250.12661662\n",
      "        0.        ]\n",
      " [      0.               0.           12007.97138553       0.\n",
      "        0.           30868.38500984       0.               0.\n",
      "   -42250.12661662]\n",
      " [  30868.38500984      -0.              -0.          101225.01821357\n",
      "       -0.              -0.         -130080.94659946      -0.\n",
      "       -0.        ]\n",
      " [     -0.           30868.38500984      -0.              -0.\n",
      "   101225.01821357      -0.              -0.         -130080.94659946\n",
      "       -0.        ]\n",
      " [     -0.              -0.           30868.38500984      -0.\n",
      "       -0.          101225.01821357      -0.              -0.\n",
      "  -130080.94659946]\n",
      " [ -42250.12661662      -0.              -0.         -130080.94659947\n",
      "       -0.              -0.          169739.10386641      -0.\n",
      "       -0.        ]\n",
      " [     -0.          -42250.12661662      -0.              -0.\n",
      "  -130080.94659947      -0.              -0.          169739.10386641\n",
      "       -0.        ]\n",
      " [     -0.              -0.          -42250.12661662      -0.\n",
      "       -0.         -130080.94659947      -0.              -0.\n",
      "   169739.10386641]]\n"
     ]
    }
   ],
   "source": [
    "import time\n",
    "\n",
    "#algo.theta_position = 20\n",
    "\n",
    "def unbiased_estimator(rng: np.random.Generator) -> np.ndarray:\n",
    "    context_sample = seq.context_unbiased_estimator(rng)\n",
    "    probabilities = algo.get_policy(context_sample)\n",
    "    action_sample_index = rng.choice(np.arange(algo.actionset.number_of_actions), p=probabilities)\n",
    "\n",
    "    tensor = np.einsum(\"a,b,c,d->cadb\", context_sample, context_sample,  algo.actionset[action_sample_index],  algo.actionset[action_sample_index])\n",
    "    output_matrix_length = len(context_sample) * len(algo.actionset[action_sample_index])\n",
    "    return tensor.reshape(output_matrix_length, output_matrix_length)\n",
    "\n",
    "\n",
    "start = time.time()\n",
    "inverse = matrix_geometric_resampling(algo.rng, algo.M, algo.beta, unbiased_estimator)\n",
    "end = time.time()\n",
    "print(end - start, inverse)\n",
    "\n",
    "start = time.time()\n",
    "\n",
    "action_matrix = np.zeros((K,K))\n",
    "for i in range(d):\n",
    "    context = np.zeros(d)\n",
    "    context[i] = 1\n",
    "\n",
    "    probabilities = algo.get_policy(context)\n",
    "    weighted_action = np.einsum(\"ab,a->b\", algo.actionset.actionset, probabilities)\n",
    "    action_matrix += np.outer(weighted_action, weighted_action) / d\n",
    "\n",
    "print(action_matrix)\n",
    "\n",
    "tensor = np.einsum(\"ab,cd->cadb\", np.identity(d)/d,  action_matrix).reshape((d*K, d*K))\n",
    "inverse = np.linalg.inv(tensor)\n",
    "end = time.time()\n",
    "print(end - start, inverse)\n"
   ]
  },
  {
   "cell_type": "code",
   "execution_count": null,
   "metadata": {},
   "outputs": [],
   "source": []
  }
 ],
 "metadata": {
  "kernelspec": {
   "display_name": "Python 3.8.6 64-bit",
   "language": "python",
   "name": "python3"
  },
  "language_info": {
   "codemirror_mode": {
    "name": "ipython",
    "version": 3
   },
   "file_extension": ".py",
   "mimetype": "text/x-python",
   "name": "python",
   "nbconvert_exporter": "python",
   "pygments_lexer": "ipython3",
   "version": "3.8.6"
  },
  "orig_nbformat": 4,
  "vscode": {
   "interpreter": {
    "hash": "52279f95a71c719c29b46e6649e7c2848e29d27590516e424c9feb43371b1514"
   }
  }
 },
 "nbformat": 4,
 "nbformat_minor": 2
}
