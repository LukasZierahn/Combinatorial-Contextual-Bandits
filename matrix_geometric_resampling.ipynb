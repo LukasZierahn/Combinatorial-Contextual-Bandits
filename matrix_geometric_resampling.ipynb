{
 "cells": [
  {
   "cell_type": "code",
   "execution_count": 1,
   "metadata": {},
   "outputs": [],
   "source": [
    "import numpy as np\n",
    "\n",
    "from misc.matrix_geometric_resampling import matrix_geometric_resampling\n",
    "\n",
    "rng = np.random.default_rng()"
   ]
  },
  {
   "cell_type": "code",
   "execution_count": 2,
   "metadata": {},
   "outputs": [],
   "source": [
    "n = 10\n",
    "\n",
    "matrix = np.identity(n) / n\n",
    "\n",
    "def unbiased_estimator(rng: np.random.Generator) -> np.ndarray:\n",
    "    index = rng.integers(n)\n",
    "\n",
    "    result = np.zeros((n, n))\n",
    "    result[index, index] = 1\n",
    "\n",
    "    return result\n",
    "    \n",
    "result = matrix_geometric_resampling(rng, 10000, 0.05, unbiased_estimator)\n"
   ]
  },
  {
   "cell_type": "code",
   "execution_count": 3,
   "metadata": {},
   "outputs": [],
   "source": [
    "from distributions.distribution_by_sequence import DistributionBySequence\n",
    "from distributions.distribution import Distribution\n",
    "from distributions.sequence import Sequence\n",
    "from algorithms.semi_bandit_exp3 import SemiBanditExp3\n",
    "from algorithms.full_bandit_exp3 import FullBanditExp3\n",
    "from algorithms.semi_bandit_ftrl import SemiBanditFTRL\n",
    "from algorithms.uniform_random import UniformRandom\n",
    "from algorithms.non_contextual_exp3 import NonContextualExp3\n",
    "from experiment_manager.experiment_manager import ExperimentManager\n",
    "\n",
    "from misc.tensor_helpers import *\n",
    "\n",
    "from distributions.actionsets.msets import MSets\n",
    "\n",
    "from distributions.contexts.binary_context import BinaryContext\n",
    "from distributions.thetas.single_hole import SingleHole\n",
    "from distributions.thetas.independent_bernoulli import IndependentBernoulli"
   ]
  },
  {
   "cell_type": "code",
   "execution_count": 4,
   "metadata": {},
   "outputs": [
    {
     "name": "stdout",
     "output_type": "stream",
     "text": [
      "epsilon:  0.011180339887498949\n",
      "1.0 1 0.5\n"
     ]
    }
   ],
   "source": [
    "algo = FullBanditExp3()\n",
    "\n",
    "length = 1000\n",
    "d = 3\n",
    "K = 2\n",
    "actionset = MSets(K, 1)\n",
    "\n",
    "epsilon = 0.25 * np.min([np.sqrt(K / length), 1])\n",
    "print(\"epsilon: \", epsilon)\n",
    "p = np.zeros((d, K)) + 0.5\n",
    "for i in range(d):\n",
    "    p[i, 0] -= epsilon\n",
    "\n",
    "dist_lower_bound = Distribution(BinaryContext(d), IndependentBernoulli(d, K, p), actionset)\n",
    "dist_holes = Distribution(BinaryContext(d), SingleHole(d, K, np.array([0.7, 0.3])), actionset)\n",
    "\n",
    "seq = dist_lower_bound.generate(length, rng, rng)\n",
    "algo.set_constants(rng, seq)\n",
    "print(seq.sigma, seq.m, algo.beta)\n",
    "algo.run_on_sequence(rng, seq)\n",
    "None"
   ]
  },
  {
   "cell_type": "code",
   "execution_count": 6,
   "metadata": {},
   "outputs": [
    {
     "name": "stdout",
     "output_type": "stream",
     "text": [
      "0.017996788024902344 [[ 5.66903215  0.          0.          0.          0.          0.        ]\n",
      " [ 0.          4.74671268  0.          0.          0.          0.        ]\n",
      " [ 0.          0.          2.60702705  0.          0.          0.        ]\n",
      " [ 0.          0.          0.          8.33759499  0.          0.        ]\n",
      " [ 0.          0.          0.          0.          3.70850224  0.        ]\n",
      " [ 0.          0.          0.          0.          0.         11.30798721]]\n",
      "\n",
      "Start:\n",
      "[0.49668991 0.50331009] [0.49668991 0.50331009]\n",
      "[0.5 0.5] [0.5 0.5]\n",
      "[0.50267753 0.49732247] [0.50267753 0.49732247]\n",
      "\n",
      "action_matrix:\n",
      "[[0.24979519 0.24999396]\n",
      " [0.24999396 0.25021689]]\n",
      "\n",
      "tensor: (3, 3, 2, 2) \n",
      " [[0.08326506 0.08333132 0.         0.         0.         0.        ]\n",
      " [0.08333132 0.08340563 0.         0.         0.         0.        ]\n",
      " [0.         0.         0.08326506 0.08333132 0.         0.        ]\n",
      " [0.         0.         0.08333132 0.08340563 0.         0.        ]\n",
      " [0.         0.         0.         0.         0.08326506 0.08333132]\n",
      " [0.         0.         0.         0.         0.08333132 0.08340563]]\n",
      "0.002000570297241211 [[ 35751.67534091 -35715.53970727      0.              0.\n",
      "       0.              0.        ]\n",
      " [-35715.53970727  35691.4287582      -0.             -0.\n",
      "      -0.             -0.        ]\n",
      " [     0.              0.          35751.67534091 -35715.53970727\n",
      "       0.              0.        ]\n",
      " [    -0.             -0.         -35715.53970727  35691.4287582\n",
      "      -0.             -0.        ]\n",
      " [     0.              0.              0.              0.\n",
      "   35751.67534091 -35715.53970727]\n",
      " [    -0.             -0.             -0.             -0.\n",
      "  -35715.53970727  35691.4287582 ]]\n"
     ]
    }
   ],
   "source": [
    "import time\n",
    "\n",
    "algo.theta_position = 2\n",
    "\n",
    "def unbiased_estimator(rng: np.random.Generator) -> np.ndarray:\n",
    "    context_sample = seq.context_unbiased_estimator(rng)\n",
    "    probabilities = algo.get_policy(context_sample)\n",
    "    action_sample_index = rng.choice(np.arange(algo.actionset.number_of_actions), p=probabilities)\n",
    "\n",
    "    tensor = np.einsum(\"a,b,c,d->abcd\", context_sample, context_sample,  algo.actionset[action_sample_index],  algo.actionset[action_sample_index])\n",
    "    return tensor_to_matrix(tensor)\n",
    "\n",
    "\n",
    "start = time.time()\n",
    "inverse = matrix_geometric_resampling(algo.rng, algo.M, algo.beta, unbiased_estimator)\n",
    "end = time.time()\n",
    "print(end - start, inverse)\n",
    "\n",
    "print(\"\\nStart:\")\n",
    "start = time.time()\n",
    "\n",
    "action_matrix = np.zeros((K,K))\n",
    "for i in range(d):\n",
    "    context = np.zeros(d)\n",
    "    context[i] = 1\n",
    "\n",
    "    probabilities = algo.get_policy(context)\n",
    "    weighted_action = np.einsum(\"ab,a->b\", algo.actionset.actionset, probabilities)\n",
    "    print(probabilities, weighted_action)\n",
    "    action_matrix += np.outer(weighted_action, weighted_action) / d\n",
    "\n",
    "print(\"\\naction_matrix:\")\n",
    "print(action_matrix)\n",
    "\n",
    "tensor = np.einsum(\"ab,cd->abcd\", np.identity(d)/d,  action_matrix)\n",
    "kron = np.kron(np.identity(d)/d,  action_matrix)\n",
    "print(\"\\ntensor:\", tensor.shape, \"\\n\", kron)\n",
    "# print(matrix_to_tensor(tensor_to_matrix(tensor), d, K))\n",
    "# print(tensor)\n",
    "# print(tensor_to_matrix(matrix_to_tensor(kron, d, K)))\n",
    "# print(\"\\n\")\n",
    "inverse = np.linalg.inv(kron + np.identity(d * K) * 1e-5)\n",
    "end = time.time()\n",
    "print(end - start, inverse)\n"
   ]
  },
  {
   "cell_type": "code",
   "execution_count": null,
   "metadata": {},
   "outputs": [],
   "source": []
  }
 ],
 "metadata": {
  "kernelspec": {
   "display_name": "Python 3.8.3 64-bit",
   "language": "python",
   "name": "python3"
  },
  "language_info": {
   "codemirror_mode": {
    "name": "ipython",
    "version": 3
   },
   "file_extension": ".py",
   "mimetype": "text/x-python",
   "name": "python",
   "nbconvert_exporter": "python",
   "pygments_lexer": "ipython3",
   "version": "3.8.3"
  },
  "orig_nbformat": 4,
  "vscode": {
   "interpreter": {
    "hash": "aee8b7b246df8f9039afb4144a1f6fd8d2ca17a180786b69acc140d282b71a49"
   }
  }
 },
 "nbformat": 4,
 "nbformat_minor": 2
}
