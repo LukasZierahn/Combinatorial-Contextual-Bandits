{
 "cells": [
  {
   "cell_type": "code",
   "execution_count": 1,
   "metadata": {},
   "outputs": [],
   "source": [
    "import numpy as np\n",
    "\n",
    "from misc.matrix_geometric_resampling import matrix_geometric_resampling\n",
    "\n",
    "rng = np.random.default_rng()"
   ]
  },
  {
   "cell_type": "code",
   "execution_count": 2,
   "metadata": {},
   "outputs": [],
   "source": [
    "n = 10\n",
    "\n",
    "matrix = np.identity(n) / n\n",
    "\n",
    "def unbiased_estimator(rng: np.random.Generator) -> np.ndarray:\n",
    "    index = rng.integers(n)\n",
    "\n",
    "    result = np.zeros((n, n))\n",
    "    result[index, index] = 1\n",
    "\n",
    "    return result\n",
    "    \n",
    "result = matrix_geometric_resampling(rng, 10000, 0.05, unbiased_estimator)\n"
   ]
  },
  {
   "cell_type": "code",
   "execution_count": 3,
   "metadata": {},
   "outputs": [],
   "source": [
    "from distributions.distribution_by_sequence import DistributionBySequence\n",
    "from distributions.distribution import Distribution\n",
    "from distributions.sequence import Sequence\n",
    "from algorithms.semi_bandit_exp3 import SemiBanditExp3\n",
    "from algorithms.full_bandit_exp3 import FullBanditExp3\n",
    "from algorithms.semi_bandit_ftrl import SemiBanditFTRL\n",
    "from algorithms.uniform_random import UniformRandom\n",
    "from algorithms.non_contextual_exp3 import NonContextualExp3\n",
    "from experiment_manager.experiment_manager import ExperimentManager\n",
    "\n",
    "from misc.tensor_helpers import *\n",
    "\n",
    "from distributions.actionsets.msets import MSets\n",
    "\n",
    "from distributions.contexts.binary_context import BinaryContext\n",
    "from distributions.thetas.single_hole import SingleHole\n",
    "from distributions.thetas.independent_bernoulli import IndependentBernoulli"
   ]
  },
  {
   "cell_type": "code",
   "execution_count": 7,
   "metadata": {},
   "outputs": [
    {
     "name": "stdout",
     "output_type": "stream",
     "text": [
      "epsilon:  0.004330127018922193\n",
      "1.0 2 0.25\n"
     ]
    }
   ],
   "source": [
    "algo = FullBanditExp3()\n",
    "\n",
    "length = 10000\n",
    "d = 3\n",
    "K = 3\n",
    "actionset = MSets(K, 2)\n",
    "\n",
    "epsilon = 0.25 * np.min([np.sqrt(K / length), 1])\n",
    "print(\"epsilon: \", epsilon)\n",
    "p = np.zeros((d, K)) + 0.5\n",
    "for i in range(d):\n",
    "    p[i, 0] -= epsilon\n",
    "\n",
    "dist_lower_bound = Distribution(BinaryContext(d), IndependentBernoulli(d, K, p), actionset)\n",
    "dist_holes = Distribution(BinaryContext(d), SingleHole(d, K, np.array([0.7, 0.3])), actionset)\n",
    "\n",
    "seq = dist_lower_bound.generate(length, rng, rng)\n",
    "algo.set_constants(rng, seq)\n",
    "algo.M = 10\n",
    "print(seq.sigma, seq.m, algo.beta)\n",
    "algo.run_on_sequence(rng, seq)\n",
    "None"
   ]
  },
  {
   "cell_type": "code",
   "execution_count": 5,
   "metadata": {},
   "outputs": [
    {
     "name": "stdout",
     "output_type": "stream",
     "text": [
      "0.019003629684448242 [[ 3.97350264  0.          0.          0.          0.          0.        ]\n",
      " [ 0.          6.44167483  0.          0.          0.          0.        ]\n",
      " [ 0.          0.          5.48950106  0.          0.          0.        ]\n",
      " [ 0.          0.          0.          3.29663034  0.          0.        ]\n",
      " [ 0.          0.          0.          0.         14.35939407  0.        ]\n",
      " [ 0.          0.          0.          0.          0.          2.99915168]]\n",
      "\n",
      "Start:\n",
      "[0.41106732 0.58893268] [0.41106732 0.58893268]\n",
      "[0.62161589 0.37838411] [0.62161589 0.37838411]\n",
      "[0.53296776 0.46703224] [0.53296776 0.46703224]\n",
      "\n",
      "action_matrix:\n",
      "[[0.27981243 0.24207123]\n",
      " [0.24207123 0.23604512]]\n",
      "\n",
      "tensor: (3, 3, 2, 2) \n",
      " [[0.09327081 0.08069041 0.         0.         0.         0.        ]\n",
      " [0.08069041 0.07868171 0.         0.         0.         0.        ]\n",
      " [0.         0.         0.09327081 0.08069041 0.         0.        ]\n",
      " [0.         0.         0.08069041 0.07868171 0.         0.        ]\n",
      " [0.         0.         0.         0.         0.09327081 0.08069041]\n",
      " [0.         0.         0.         0.         0.08069041 0.07868171]]\n",
      "0.002994537353515625 [[ 94.8682706  -97.27784471   0.           0.           0.\n",
      "    0.        ]\n",
      " [-97.27784471 112.45643954   0.           0.           0.\n",
      "    0.        ]\n",
      " [  0.           0.          94.8682706  -97.27784471   0.\n",
      "    0.        ]\n",
      " [  0.           0.         -97.27784471 112.45643954   0.\n",
      "    0.        ]\n",
      " [  0.           0.           0.           0.          94.8682706\n",
      "  -97.27784471]\n",
      " [  0.           0.           0.           0.         -97.27784471\n",
      "  112.45643954]]\n"
     ]
    }
   ],
   "source": [
    "import time\n",
    "\n",
    "algo.theta_position = 2\n",
    "\n",
    "def unbiased_estimator(rng: np.random.Generator) -> np.ndarray:\n",
    "    context_sample = seq.context_unbiased_estimator(rng)\n",
    "    probabilities = algo.get_policy(context_sample)\n",
    "    action_sample_index = rng.choice(np.arange(algo.actionset.number_of_actions), p=probabilities)\n",
    "\n",
    "    tensor = np.einsum(\"a,b,c,d->abcd\", context_sample, context_sample,  algo.actionset[action_sample_index],  algo.actionset[action_sample_index])\n",
    "    return tensor_to_matrix(tensor)\n",
    "\n",
    "\n",
    "start = time.time()\n",
    "inverse = matrix_geometric_resampling(algo.rng, algo.M, algo.beta, unbiased_estimator)\n",
    "end = time.time()\n",
    "print(end - start, inverse)\n",
    "\n",
    "print(\"\\nStart:\")\n",
    "start = time.time()\n",
    "\n",
    "action_matrix = np.zeros((K,K))\n",
    "for i in range(d):\n",
    "    context = np.zeros(d)\n",
    "    context[i] = 1\n",
    "\n",
    "    probabilities = algo.get_policy(context)\n",
    "    weighted_action = np.einsum(\"ab,a->b\", algo.actionset.actionset, probabilities)\n",
    "    print(probabilities, weighted_action)\n",
    "    action_matrix += np.outer(weighted_action, weighted_action) / d\n",
    "\n",
    "print(\"\\naction_matrix:\")\n",
    "print(action_matrix)\n",
    "\n",
    "tensor = np.einsum(\"ab,cd->abcd\", np.identity(d)/d,  action_matrix)\n",
    "kron = np.kron(np.identity(d)/d,  action_matrix)\n",
    "print(\"\\ntensor:\", tensor.shape, \"\\n\", kron)\n",
    "# print(matrix_to_tensor(tensor_to_matrix(tensor), d, K))\n",
    "# print(tensor)\n",
    "# print(tensor_to_matrix(matrix_to_tensor(kron, d, K)))\n",
    "# print(\"\\n\")\n",
    "inverse = np.linalg.inv(kron + np.identity(d * K) * 1e-5)\n",
    "end = time.time()\n",
    "print(end - start, inverse)\n"
   ]
  },
  {
   "cell_type": "code",
   "execution_count": null,
   "metadata": {},
   "outputs": [],
   "source": []
  }
 ],
 "metadata": {
  "kernelspec": {
   "display_name": "Python 3.8.6 64-bit",
   "language": "python",
   "name": "python3"
  },
  "language_info": {
   "codemirror_mode": {
    "name": "ipython",
    "version": 3
   },
   "file_extension": ".py",
   "mimetype": "text/x-python",
   "name": "python",
   "nbconvert_exporter": "python",
   "pygments_lexer": "ipython3",
   "version": "3.8.6"
  },
  "orig_nbformat": 4,
  "vscode": {
   "interpreter": {
    "hash": "52279f95a71c719c29b46e6649e7c2848e29d27590516e424c9feb43371b1514"
   }
  }
 },
 "nbformat": 4,
 "nbformat_minor": 2
}
