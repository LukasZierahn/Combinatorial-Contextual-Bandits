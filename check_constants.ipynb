{
 "cells": [
  {
   "cell_type": "code",
   "execution_count": 1,
   "metadata": {},
   "outputs": [],
   "source": [
    "from distributions.distribution_by_sequence import DistributionBySequence\n",
    "from distributions.distribution import Distribution\n",
    "from distributions.sequence import Sequence\n",
    "from algorithms.semi_bandit_exp3 import SemiBanditExp3\n",
    "from algorithms.full_bandit_exp3 import FullBanditExp3\n",
    "from algorithms.semi_bandit_ftrl import SemiBanditFTRL\n",
    "from algorithms.uniform_random import UniformRandom\n",
    "from algorithms.non_contextual_exp3 import NonContextualExp3\n",
    "from experiment_manager.experiment_manager import ExperimentManager\n",
    "\n",
    "from distributions.actionsets.msets import MSets\n",
    "\n",
    "from distributions.contexts.binary_context import BinaryContext\n",
    "from distributions.thetas.single_hole import SingleHole\n",
    "from distributions.thetas.independent_bernoulli import IndependentBernoulli\n",
    "\n",
    "import numpy as np\n",
    "import re"
   ]
  },
  {
   "cell_type": "code",
   "execution_count": 2,
   "metadata": {},
   "outputs": [],
   "source": [
    "def check_constants(algos, lengths, dist):\n",
    "    rng = np.random.default_rng()\n",
    "    for length in lengths:\n",
    "        for algo in algos:\n",
    "            algo_name = re.findall(r\"\\..*\\.(.*)'\", str(algo.__class__))[0]\n",
    "            seq = dist.generate(length, rng, rng)\n",
    "            algo.set_constants(rng, seq)\n",
    "            print(algo_name, \"Length:\", length, \"gamma:\", algo.gamma, \"M:\", algo.M, \"beta\", algo.beta, \"eta:\", algo.eta)\n"
   ]
  },
  {
   "cell_type": "code",
   "execution_count": 3,
   "metadata": {},
   "outputs": [
    {
     "name": "stdout",
     "output_type": "stream",
     "text": [
      "[100000]\n",
      "epsilon:  0.005590169943749474\n",
      "FullBanditExp3 Length: 100000 gamma: 0.09767246716333897 M: 1889129 beta 0.000998003992015968 eta: 0.00020904471064785277\n"
     ]
    }
   ],
   "source": [
    "algos = [FullBanditExp3()]\n",
    "\n",
    "lengths = [100000]\n",
    "#lengths = np.arange(20)**2 * 100 + 500\n",
    "print(lengths)\n",
    "d = 5\n",
    "K = 5\n",
    "actionset = MSets(K, 1)\n",
    "\n",
    "epsilon = 0.25 * np.min([np.sqrt(K / 10000), 1])\n",
    "print(\"epsilon: \", epsilon)\n",
    "p = np.zeros((d, K)) + 0.5\n",
    "for i in range(d):\n",
    "    p[i, 0] -= epsilon\n",
    "\n",
    "dist = Distribution(BinaryContext(d), IndependentBernoulli(d, K, p), actionset)\n",
    "check_constants(algos, lengths, dist)"
   ]
  },
  {
   "cell_type": "code",
   "execution_count": null,
   "metadata": {},
   "outputs": [],
   "source": []
  }
 ],
 "metadata": {
  "kernelspec": {
   "display_name": "Python 3.8.3 64-bit",
   "language": "python",
   "name": "python3"
  },
  "language_info": {
   "codemirror_mode": {
    "name": "ipython",
    "version": 3
   },
   "file_extension": ".py",
   "mimetype": "text/x-python",
   "name": "python",
   "nbconvert_exporter": "python",
   "pygments_lexer": "ipython3",
   "version": "3.8.3"
  },
  "orig_nbformat": 4,
  "vscode": {
   "interpreter": {
    "hash": "aee8b7b246df8f9039afb4144a1f6fd8d2ca17a180786b69acc140d282b71a49"
   }
  }
 },
 "nbformat": 4,
 "nbformat_minor": 2
}
