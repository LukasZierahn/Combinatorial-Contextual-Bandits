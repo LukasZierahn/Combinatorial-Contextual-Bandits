{
 "cells": [
  {
   "cell_type": "code",
   "execution_count": 1,
   "metadata": {},
   "outputs": [],
   "source": [
    "from distributions.distribution_by_sequence import DistributionBySequence\n",
    "from distributions.distribution import Distribution\n",
    "from distributions.sequence import Sequence\n",
    "from algorithms.semi_bandit_exp3 import SemiBanditExp3\n",
    "from algorithms.full_bandit_exp3 import FullBanditExp3\n",
    "from algorithms.semi_bandit_ftrl import SemiBanditFTRL\n",
    "from algorithms.full_bandit_exp3_inv import FullBanditExp3Inv\n",
    "from algorithms.uniform_random import UniformRandom\n",
    "from algorithms.non_contextual_exp3 import NonContextualExp3\n",
    "from experiment_manager.experiment_manager import ExperimentManager\n",
    "\n",
    "from misc.tensor_helpers import *\n",
    "\n",
    "from distributions.actionsets.msets import MSets\n",
    "\n",
    "from distributions.contexts.binary_context import BinaryContext\n",
    "from distributions.thetas.single_hole import SingleHole\n",
    "from distributions.thetas.independent_bernoulli import IndependentBernoulli"
   ]
  },
  {
   "cell_type": "code",
   "execution_count": 2,
   "metadata": {},
   "outputs": [
    {
     "name": "stdout",
     "output_type": "stream",
     "text": [
      "epsilon:  0.0035355339059327377\n",
      "1.0 1 0.5 0.06887868239885406\n",
      "regret 86.0 998.0\n"
     ]
    }
   ],
   "source": [
    "algo = FullBanditExp3Inv()\n",
    "\n",
    "length = 10000\n",
    "d = 3\n",
    "K = 2\n",
    "actionset = MSets(K, 1)\n",
    "\n",
    "epsilon = 0.25 * np.min([np.sqrt(K / length), 1])\n",
    "print(\"epsilon: \", epsilon)\n",
    "p = np.zeros((d, K)) + 0.5\n",
    "for i in range(d):\n",
    "    p[i, 0] = 0.3\n",
    "\n",
    "dist_lower_bound = Distribution(BinaryContext(d), IndependentBernoulli(d, K, p), actionset)\n",
    "\n",
    "rng = np.random.default_rng()\n",
    "seq = dist_lower_bound.generate(length, rng, rng)\n",
    "algo.set_constants(rng, seq)\n",
    "print(seq.sigma, seq.m, algo.beta, algo.gamma)\n",
    "loss, _, _, _ = algo.run_on_sequence(rng, seq)\n",
    "loss_of_optimal_policy, _, _ = seq.find_optimal_policy()\n",
    "\n",
    "comperator = UniformRandom()\n",
    "comperator.set_constants(rng, seq)\n",
    "loss_comperator, _, _, _ = comperator.run_on_sequence(rng, seq)\n",
    "print(\"regret\", loss - loss_of_optimal_policy, loss_comperator - loss_of_optimal_policy)\n"
   ]
  },
  {
   "cell_type": "code",
   "execution_count": null,
   "metadata": {},
   "outputs": [],
   "source": [
    "algo = FullBanditExp3Inv()\n",
    "algo.set_constants(rng, seq)\n",
    "\n",
    "seq.reset()\n",
    "context, _, _, done = seq.get_next(None)\n",
    "\n",
    "losses = []\n",
    "probability_array = []\n",
    "action_array = []\n",
    "while not done:\n",
    "    probabilities = algo.get_policy(context)\n",
    "    probability_array.append(probabilities)\n",
    "\n",
    "    print(\"Start next\")\n",
    "    print(probabilities)\n",
    "    action_index = rng.choice(np.arange(seq.actionset.number_of_actions), p=probabilities)\n",
    "    print(action_index, seq.actionset[action_index])\n",
    "    action_array.append(action_index)\n",
    "\n",
    "    print(\"\\n\")\n",
    "    next_context, loss, loss_vec, done = seq.get_next(seq.actionset[action_index])\n",
    "    print(loss, loss_vec)\n",
    "    loss_vec[~seq.actionset[action_index]] = 0\n",
    "    print(loss, loss_vec)\n",
    "    if algo.full_bandit:\n",
    "        algo.observe_loss(loss, context, action_index)\n",
    "    else:\n",
    "        algo.observe_loss_vec(loss_vec, context, action_index)\n",
    "\n",
    "    print(algo.theta_estimate)\n",
    "    print(\"\\n\\n\")\n",
    "    losses.append(loss)\n",
    "    context = next_context\n",
    "\n",
    "    if seq.current_index == 10:\n",
    "        1/0\n"
   ]
  },
  {
   "cell_type": "code",
   "execution_count": null,
   "metadata": {},
   "outputs": [],
   "source": []
  }
 ],
 "metadata": {
  "kernelspec": {
   "display_name": "Python 3.8.6 64-bit",
   "language": "python",
   "name": "python3"
  },
  "language_info": {
   "codemirror_mode": {
    "name": "ipython",
    "version": 3
   },
   "file_extension": ".py",
   "mimetype": "text/x-python",
   "name": "python",
   "nbconvert_exporter": "python",
   "pygments_lexer": "ipython3",
   "version": "3.8.6"
  },
  "orig_nbformat": 4,
  "vscode": {
   "interpreter": {
    "hash": "52279f95a71c719c29b46e6649e7c2848e29d27590516e424c9feb43371b1514"
   }
  }
 },
 "nbformat": 4,
 "nbformat_minor": 2
}
