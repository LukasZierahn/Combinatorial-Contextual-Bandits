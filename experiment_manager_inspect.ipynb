{
 "cells": [
  {
   "cell_type": "code",
   "execution_count": 3,
   "metadata": {},
   "outputs": [],
   "source": [
    "import numpy as np\n",
    "import matplotlib.pyplot as plt\n",
    "\n",
    "from distributions.distribution_by_sequence import DistributionBySequence\n",
    "from distributions.distribution import Distribution\n",
    "from distributions.sequence import Sequence\n",
    "from algorithms.semi_bandit_exp3 import SemiBanditExp3\n",
    "from algorithms.uniform_random import UniformRandom\n",
    "from experiment_manager.experiment_manager import ExperimentManager\n",
    "\n",
    "from distributions.contexts.binary_context import BinaryContext\n",
    "from distributions.thetas.single_hole import SingleHole\n",
    "from distributions.thetas.independent_bernoulli import IndependentBernoulli"
   ]
  },
  {
   "cell_type": "code",
   "execution_count": 4,
   "metadata": {},
   "outputs": [
    {
     "name": "stdout",
     "output_type": "stream",
     "text": [
      "0.007905694150420948\n"
     ]
    }
   ],
   "source": [
    "exp_manager = ExperimentManager()\n",
    "algos = [SemiBanditExp3(), UniformRandom()]\n",
    "\n",
    "length = 2000\n",
    "d = 2\n",
    "K = 2\n",
    "actionset = []\n",
    "for i in range(K):\n",
    "    buffer = np.zeros(K, dtype=bool)\n",
    "    buffer[i] = 1\n",
    "    actionset.append(buffer)\n",
    "actionset = np.array(actionset)\n",
    "\n",
    "dist_holes = Distribution(BinaryContext(d), SingleHole(K, d, np.array([0.7, 0.3])), actionset)\n",
    "\n",
    "epsilon = 0.25 * np.min([np.sqrt(K / length), 1])\n",
    "print(epsilon)\n",
    "p = np.zeros((d, K)) + 0.5\n",
    "for i in range(d):\n",
    "    p[i, np.random.randint(K)] -= epsilon\n",
    "\n",
    "dist_lower_bound = Distribution(BinaryContext(d), IndependentBernoulli(d, K, p), actionset)"
   ]
  },
  {
   "cell_type": "code",
   "execution_count": 5,
   "metadata": {},
   "outputs": [
    {
     "data": {
      "text/plain": [
       "array([[ 19.,   0.,  57.],\n",
       "       [ 10., -20.,  38.]])"
      ]
     },
     "execution_count": 5,
     "metadata": {},
     "output_type": "execute_result"
    }
   ],
   "source": [
    "data = exp_manager.run(1, [1000, 2000, 5000], algos, [dist_lower_bound])\n",
    "data"
   ]
  },
  {
   "cell_type": "code",
   "execution_count": 6,
   "metadata": {},
   "outputs": [
    {
     "data": {
      "image/png": "[encoded data removed]",
      "text/plain": [
       "<Figure size 432x288 with 1 Axes>"
      ]
     },
     "metadata": {
      "needs_background": "light"
     },
     "output_type": "display_data"
    },
    {
     "ename": "",
     "evalue": "",
     "output_type": "error",
     "traceback": [
      "\u001b[1;31mThe Kernel crashed while executing code in the the current cell or a previous cell. Please review the code in the cell(s) to identify a possible cause of the failure. Click <a href='https://aka.ms/vscodeJupyterKernelCrash'>here</a> for more info. View Jupyter <a href='command:jupyter.viewOutput'>log</a> for further details."
     ]
    }
   ],
   "source": [
    "m = K\n",
    "def theoretical_bound(T):\n",
    "    return 8 * m * np.sqrt(T * K * d * np.log(np.e * K / m) * np.log(np.sqrt(T) * m * dist_lower_bound.context.true_sigma * dist_lower_bound.thetas.true_R))\n",
    "\n",
    "import matplotlib.pyplot as plt\n",
    "\n",
    "plt.plot([1000, 2000, 5000], data[0], label=\"SemiBanditExp3\")\n",
    "plt.plot([1000, 2000, 5000], data[1], label=\"UniformRandom\")\n",
    "plt.plot([1000, 2000, 5000], theoretical_bound(np.array([1000, 2000, 5000])), label=\"Theretical Bound\")\n",
    "plt.legend()\n",
    "plt.show()"
   ]
  }
 ],
 "metadata": {
  "kernelspec": {
   "display_name": "Python 3.8.6 64-bit",
   "language": "python",
   "name": "python3"
  },
  "language_info": {
   "codemirror_mode": {
    "name": "ipython",
    "version": 3
   },
   "file_extension": ".py",
   "mimetype": "text/x-python",
   "name": "python",
   "nbconvert_exporter": "python",
   "pygments_lexer": "ipython3",
   "version": "3.8.6"
  },
  "orig_nbformat": 4,
  "vscode": {
   "interpreter": {
    "hash": "52279f95a71c719c29b46e6649e7c2848e29d27590516e424c9feb43371b1514"
   }
  }
 },
 "nbformat": 4,
 "nbformat_minor": 2
}
