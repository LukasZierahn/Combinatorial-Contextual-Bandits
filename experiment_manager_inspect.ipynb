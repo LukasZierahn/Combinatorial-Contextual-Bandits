{
 "cells": [
  {
   "cell_type": "code",
   "execution_count": 1,
   "metadata": {},
   "outputs": [],
   "source": [
    "import numpy as np\n",
    "import matplotlib.pyplot as plt\n",
    "\n",
    "from distributions.distribution_by_sequence import DistributionBySequence\n",
    "from distributions.distribution import Distribution\n",
    "from distributions.sequence import Sequence\n",
    "from algorithms.semi_bandit_exp3 import SemiBanditExp3\n",
    "from algorithms.full_bandit_exp3 import FullBanditExp3\n",
    "from algorithms.semi_bandit_ftrl import SemiBanditFTRL\n",
    "from algorithms.uniform_random import UniformRandom\n",
    "from algorithms.non_contextual_exp3 import NonContextualExp3\n",
    "from experiment_manager.experiment_manager import ExperimentManager\n",
    "\n",
    "from distributions.actionsets.msets import MSets\n",
    "\n",
    "from distributions.contexts.binary_context import BinaryContext\n",
    "from distributions.thetas.single_hole import SingleHole\n",
    "from distributions.thetas.independent_bernoulli import IndependentBernoulli\n",
    "\n",
    "rng = np.random.default_rng()"
   ]
  },
  {
   "cell_type": "code",
   "execution_count": 2,
   "metadata": {},
   "outputs": [
    {
     "name": "stdout",
     "output_type": "stream",
     "text": [
      "epsilon:  0.011180339887498949\n"
     ]
    }
   ],
   "source": [
    "exp_manager = ExperimentManager()\n",
    "# algos = [NonContextualExp3(), UniformRandom()]\n",
    "algo = SemiBanditFTRL()\n",
    "\n",
    "length = 1000\n",
    "d = 2\n",
    "K = 2\n",
    "actionset = MSets(K, 1)\n",
    "\n",
    "dist_holes = Distribution(BinaryContext(d), SingleHole(K, d, np.array([0.7, 0.3])), actionset)\n",
    "\n",
    "epsilon = 0.25 * np.min([np.sqrt(K / length), 1])\n",
    "print(\"epsilon: \", epsilon)\n",
    "p = np.zeros((d, K)) + 0.5\n",
    "for i in range(d):\n",
    "    p[i, 0] -= epsilon\n",
    "\n",
    "dist_lower_bound = Distribution(BinaryContext(d), IndependentBernoulli(d, K, p), actionset)\n",
    "\n",
    "seq = dist_lower_bound.generate(length, rng, rng)"
   ]
  },
  {
   "cell_type": "code",
   "execution_count": 3,
   "metadata": {},
   "outputs": [
    {
     "name": "stderr",
     "output_type": "stream",
     "text": [
      "c:\\Users\\Lukas\\Desktop\\Projects\\Combinatorial Contextual Bandits\\distributions\\actionsets\\msets.py:46: RuntimeWarning: invalid value encountered in true_divide\n",
      "  return actions / np.sum(actions)\n"
     ]
    },
    {
     "ename": "ValueError",
     "evalue": "probabilities contain NaN",
     "output_type": "error",
     "traceback": [
      "\u001b[1;31m---------------------------------------------------------------------------\u001b[0m",
      "\u001b[1;31mValueError\u001b[0m                                Traceback (most recent call last)",
      "\u001b[1;32m<ipython-input-3-23479c4507d6>\u001b[0m in \u001b[0;36m<module>\u001b[1;34m\u001b[0m\n\u001b[0;32m      1\u001b[0m \u001b[0malgo\u001b[0m\u001b[1;33m.\u001b[0m\u001b[0mset_constants\u001b[0m\u001b[1;33m(\u001b[0m\u001b[0mrng\u001b[0m\u001b[1;33m,\u001b[0m \u001b[0mseq\u001b[0m\u001b[1;33m)\u001b[0m\u001b[1;33m\u001b[0m\u001b[1;33m\u001b[0m\u001b[0m\n\u001b[1;32m----> 2\u001b[1;33m \u001b[0malgo\u001b[0m\u001b[1;33m.\u001b[0m\u001b[0mrun_on_sequence\u001b[0m\u001b[1;33m(\u001b[0m\u001b[0mrng\u001b[0m\u001b[1;33m,\u001b[0m \u001b[0mseq\u001b[0m\u001b[1;33m)\u001b[0m\u001b[1;33m\u001b[0m\u001b[1;33m\u001b[0m\u001b[0m\n\u001b[0m",
      "\u001b[1;32mc:\\Users\\Lukas\\Desktop\\Projects\\Combinatorial Contextual Bandits\\algorithms\\algorithm.py\u001b[0m in \u001b[0;36mrun_on_sequence\u001b[1;34m(self, rng, sequence)\u001b[0m\n\u001b[0;32m     53\u001b[0m             \u001b[0mprobability_array\u001b[0m\u001b[1;33m.\u001b[0m\u001b[0mappend\u001b[0m\u001b[1;33m(\u001b[0m\u001b[0mprobabilities\u001b[0m\u001b[1;33m)\u001b[0m\u001b[1;33m\u001b[0m\u001b[1;33m\u001b[0m\u001b[0m\n\u001b[0;32m     54\u001b[0m \u001b[1;33m\u001b[0m\u001b[0m\n\u001b[1;32m---> 55\u001b[1;33m             \u001b[0maction_index\u001b[0m \u001b[1;33m=\u001b[0m \u001b[0mrng\u001b[0m\u001b[1;33m.\u001b[0m\u001b[0mchoice\u001b[0m\u001b[1;33m(\u001b[0m\u001b[0mnp\u001b[0m\u001b[1;33m.\u001b[0m\u001b[0marange\u001b[0m\u001b[1;33m(\u001b[0m\u001b[0msequence\u001b[0m\u001b[1;33m.\u001b[0m\u001b[0mactionset\u001b[0m\u001b[1;33m.\u001b[0m\u001b[0mnumber_of_actions\u001b[0m\u001b[1;33m)\u001b[0m\u001b[1;33m,\u001b[0m \u001b[0mp\u001b[0m\u001b[1;33m=\u001b[0m\u001b[0mprobabilities\u001b[0m\u001b[1;33m)\u001b[0m\u001b[1;33m\u001b[0m\u001b[1;33m\u001b[0m\u001b[0m\n\u001b[0m\u001b[0;32m     56\u001b[0m             \u001b[0maction_array\u001b[0m\u001b[1;33m.\u001b[0m\u001b[0mappend\u001b[0m\u001b[1;33m(\u001b[0m\u001b[0maction_index\u001b[0m\u001b[1;33m)\u001b[0m\u001b[1;33m\u001b[0m\u001b[1;33m\u001b[0m\u001b[0m\n\u001b[0;32m     57\u001b[0m \u001b[1;33m\u001b[0m\u001b[0m\n",
      "\u001b[1;32m_generator.pyx\u001b[0m in \u001b[0;36mnumpy.random._generator.Generator.choice\u001b[1;34m()\u001b[0m\n",
      "\u001b[1;31mValueError\u001b[0m: probabilities contain NaN"
     ]
    }
   ],
   "source": [
    "algo.set_constants(rng, seq)\n",
    "algo.run_on_sequence(rng, seq)"
   ]
  },
  {
   "cell_type": "code",
   "execution_count": null,
   "metadata": {},
   "outputs": [],
   "source": [
    "1/0\n",
    "import cProfile\n",
    "lenghts = [1000]\n",
    "profile = cProfile.run(\"exp_manager.run(1, lenghts, algos, [dist_lower_bound])\", sort=\"cumtime\")\n",
    "\n",
    "#data = exp_manager.run(3, lenghts, algos, [dist_lower_bound])\n",
    "profile"
   ]
  },
  {
   "cell_type": "code",
   "execution_count": null,
   "metadata": {},
   "outputs": [],
   "source": [
    "m = K\n",
    "def theoretical_bound(T):\n",
    "    return 8 * m * np.sqrt(T * K * d * np.log(np.e * K / m) * np.log(np.sqrt(T) * m * dist_lower_bound.context.true_sigma * dist_lower_bound.thetas.true_R))\n",
    "\n",
    "import matplotlib.pyplot as plt\n",
    "\n",
    "plt.plot(lenghts, data[0], label=\"SemiBanditExp3\")\n",
    "plt.plot(lenghts, data[1], label=\"UniformRandom\")\n",
    "#plt.plot(lenghts, theoretical_bound(np.array(lenghts)), label=\"Theretical Bound\")\n",
    "plt.legend()\n",
    "plt.show()"
   ]
  },
  {
   "cell_type": "code",
   "execution_count": null,
   "metadata": {},
   "outputs": [],
   "source": []
  }
 ],
 "metadata": {
  "kernelspec": {
   "display_name": "Python 3.8.6 64-bit",
   "language": "python",
   "name": "python3"
  },
  "language_info": {
   "codemirror_mode": {
    "name": "ipython",
    "version": 3
   },
   "file_extension": ".py",
   "mimetype": "text/x-python",
   "name": "python",
   "nbconvert_exporter": "python",
   "pygments_lexer": "ipython3",
   "version": "3.8.6"
  },
  "orig_nbformat": 4,
  "vscode": {
   "interpreter": {
    "hash": "52279f95a71c719c29b46e6649e7c2848e29d27590516e424c9feb43371b1514"
   }
  }
 },
 "nbformat": 4,
 "nbformat_minor": 2
}
