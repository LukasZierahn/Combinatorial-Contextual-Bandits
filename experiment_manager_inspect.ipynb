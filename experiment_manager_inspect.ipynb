{
 "cells": [
  {
   "cell_type": "code",
   "execution_count": null,
   "metadata": {},
   "outputs": [],
   "source": [
    "import numpy as np\n",
    "import matplotlib.pyplot as plt\n",
    "\n",
    "from distributions.distribution_by_sequence import DistributionBySequence\n",
    "from distributions.sequence import Sequence\n",
    "from algorithms.semi_bandit_exp3 import SemiBanditExp3\n",
    "from experiment_manager.experiment_manager import ExperimentManager"
   ]
  },
  {
   "cell_type": "code",
   "execution_count": null,
   "metadata": {},
   "outputs": [],
   "source": [
    "exp_manager = ExperimentManager()\n",
    "algos = [SemiBanditExp3]\n",
    "\n",
    "length = 2000\n",
    "d = 2\n",
    "K = 2\n",
    "actionset = [np.ones(K, dtype=bool)]\n",
    "for i in range(K):\n",
    "    buffer = np.zeros(K, dtype=bool)\n",
    "    buffer[i] = 1\n",
    "    actionset.append(buffer)\n",
    "actionset = np.array(actionset)\n",
    "\n",
    "seq = Sequence(actionset, length, d)\n",
    "dists = [DistributionBySequence(seq)]"
   ]
  }
 ],
 "metadata": {
  "kernelspec": {
   "display_name": "Python 3.8.6 64-bit",
   "language": "python",
   "name": "python3"
  },
  "language_info": {
   "name": "python",
   "version": "3.8.6"
  },
  "orig_nbformat": 4,
  "vscode": {
   "interpreter": {
    "hash": "52279f95a71c719c29b46e6649e7c2848e29d27590516e424c9feb43371b1514"
   }
  }
 },
 "nbformat": 4,
 "nbformat_minor": 2
}
