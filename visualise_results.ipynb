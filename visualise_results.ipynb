{
 "cells": [
  {
   "cell_type": "code",
   "execution_count": 1,
   "metadata": {},
   "outputs": [],
   "source": [
    "import matplotlib.pyplot as plt\n",
    "\n",
    "from distributions.sequence import Sequence\n",
    "\n",
    "from algorithms.full_bandit_exp3 import FullBanditExp3\n",
    "\n",
    "import numpy as np\n",
    "import pandas as pd\n",
    "import seaborn as sns\n",
    "\n",
    "import pickle\n",
    "import json\n",
    "\n",
    "import os"
   ]
  },
  {
   "cell_type": "code",
   "execution_count": 2,
   "metadata": {},
   "outputs": [],
   "source": [
    "def get_name(run_name):\n",
    "    return run_name.split(\"_\")[0]\n",
    "\n",
    "def get_length(run_name):\n",
    "    return run_name.split(\"_\")[1]\n",
    "\n",
    "def theoretical_bound(T, sequence: Sequence):\n",
    "    return 8 * sequence.m * np.sqrt(T * sequence.K * sequence.d * np.log(np.e * sequence.K / sequence.m) * np.log(np.sqrt(T) * sequence.m * sequence.sigma * sequence.R))\n",
    "\n"
   ]
  },
  {
   "cell_type": "code",
   "execution_count": 3,
   "metadata": {},
   "outputs": [
    {
     "name": "stdout",
     "output_type": "stream",
     "text": [
      "['FullBanditExp3Inv' 'FullBanditExp3M=1' 'FullBanditExp3M=10'\n",
      " 'FullBanditExp3M=25' 'FullBanditExp3M=50' 'NonContextualExp3M=1'\n",
      " 'NonContextualExp3M=10' 'NonContextualExp3M=25' 'OnePerContextM=1'\n",
      " 'OnePerContextM=10' 'OnePerContextM=25' 'UniformRandomM=1'\n",
      " 'UniformRandomM=10' 'UniformRandomM=25']\n",
      "['FullBanditExp3Inv' 'FullBanditExp3M=1' 'FullBanditExp3M=10'\n",
      " 'FullBanditExp3M=25' 'FullBanditExp3M=50' 'NonContextualExp3M=1'\n",
      " 'NonContextualExp3M=10' 'NonContextualExp3M=25' 'OnePerContextM=1'\n",
      " 'OnePerContextM=10' 'OnePerContextM=25' 'UniformRandomM=1'\n",
      " 'UniformRandomM=10' 'UniformRandomM=25']\n",
      "['FullBanditExp3Inv' 'FullBanditExp3M=1' 'FullBanditExp3M=10'\n",
      " 'FullBanditExp3M=25' 'FullBanditExp3M=50' 'NonContextualExp3M=1'\n",
      " 'NonContextualExp3M=10' 'NonContextualExp3M=25' 'OnePerContextM=1'\n",
      " 'OnePerContextM=10' 'OnePerContextM=25' 'UniformRandomM=1'\n",
      " 'UniformRandomM=10' 'UniformRandomM=25']\n",
      "['FullBanditExp3Inv' 'FullBanditExp3M=1' 'FullBanditExp3M=10'\n",
      " 'FullBanditExp3M=25' 'FullBanditExp3M=50' 'NonContextualExp3M=1'\n",
      " 'NonContextualExp3M=10' 'NonContextualExp3M=25' 'OnePerContextM=1'\n",
      " 'OnePerContextM=10' 'OnePerContextM=25' 'UniformRandomM=1'\n",
      " 'UniformRandomM=10' 'UniformRandomM=25']\n",
      "['FullBanditExp3Inv' 'FullBanditExp3M=1' 'FullBanditExp3M=10'\n",
      " 'FullBanditExp3M=25' 'FullBanditExp3M=50' 'NonContextualExp3M=1'\n",
      " 'NonContextualExp3M=10' 'NonContextualExp3M=25' 'OnePerContextM=1'\n",
      " 'OnePerContextM=10' 'OnePerContextM=25' 'UniformRandomM=1'\n",
      " 'UniformRandomM=10' 'UniformRandomM=25']\n"
     ]
    }
   ],
   "source": [
    "sample_sequences = {}\n",
    "results = {}\n",
    "distributions = os.listdir(f\"output/\")\n",
    "for dist_index, dist in enumerate(distributions):\n",
    "    results[dist] = {}\n",
    "    sample_sequences[dist] = {}\n",
    "\n",
    "    lengths = os.listdir(f\"output/{dist}\")\n",
    "\n",
    "    for length_index, length in enumerate(lengths):\n",
    "        results[dist][length] = {}\n",
    "        \n",
    "        with open(f\"output/{dist}/{length}/0/sequence.json\", \"rb\") as input_file:\n",
    "            sample_sequences[dist][length] = pickle.load(input_file)\n",
    "\n",
    "        algo_names = os.listdir(f\"output/{dist}/{length}/0\")\n",
    "        algo_names = np.unique([x.split(\"_\")[0] for x in algo_names])\n",
    "        algo_names = algo_names[algo_names != \"sequence.json\"]\n",
    "        print(algo_names)\n",
    "\n",
    "        for algo_name in algo_names:\n",
    "            results[dist][length][algo_name] = {\n",
    "                \"regret\": [],\n",
    "                \"gamma\": [],\n",
    "                \"time_elapsed\": [],\n",
    "            }\n",
    "\n",
    "            iterations = os.listdir(f\"output/{dist}/{length}/\")\n",
    "            for iteration in iterations:\n",
    "                with open(f\"output/{dist}/{length}/{iteration}/{algo_name}_general_info.json\", \"r\") as input_file:\n",
    "                    input_dict = json.load(input_file)\n",
    "\n",
    "                result_buffer = results[dist][length][algo_name]\n",
    "                result_buffer[\"regret\"].append(input_dict[\"regret\"])\n",
    "                result_buffer[\"gamma\"].append(input_dict[\"gamma\"])\n",
    "                result_buffer[\"time_elapsed\"].append(input_dict[\"time_elapsed\"])\n",
    "\n",
    "for dist_name in results.keys():\n",
    "    for length in results[dist_name].keys():\n",
    "        for algo_name in results[dist_name][length].keys():\n",
    "            for key in results[dist_name][length][algo_name].keys():\n",
    "                results[dist_name][length][algo_name][key] = np.array(results[dist_name][length][algo_name][key])"
   ]
  },
  {
   "cell_type": "code",
   "execution_count": 4,
   "metadata": {},
   "outputs": [
    {
     "name": "stdout",
     "output_type": "stream",
     "text": [
      "\n",
      "\n",
      "20000 d: 12 K: 3 m: 2\n",
      "gamma 0.2600701247657559 M 4518\n",
      "FullBanditExp3Inv regret: 2891.0 62.14800881766044 6492.3246961236\n",
      "FullBanditExp3M=1 regret: 2615.5625 60.820400309024606 691.0789031982422\n",
      "FullBanditExp3M=10 regret: 2646.0625 73.69062758417789 3167.443813085556\n",
      "FullBanditExp3M=25 regret: 2628.9375 66.4139186748531 7002.263856589794\n",
      "FullBanditExp3M=50 regret: 2611.375 50.24175927453178 13441.719574645162\n",
      "NonContextualExp3M=1 regret: 2527.9375 57.06516970753702 139.13160468637943\n",
      "OnePerContextM=1 regret: 1986.875 59.443118819590886 122.11872243881226\n",
      "UniformRandomM=1 regret: 2642.4375 94.14946146287826 3.7450482100248337\n",
      "\n",
      "\n",
      "20000 d: 3 K: 3 m: 2\n",
      "gamma 0.11788715655048165 M 2048\n",
      "FullBanditExp3Inv regret: 3078.375 957.8842489439943 635.3282829374075\n",
      "FullBanditExp3M=1 regret: 2626.6875 90.18433812891239 156.94370965659618\n",
      "FullBanditExp3M=10 regret: 2549.0625 66.11965361184222 833.0133567005396\n",
      "FullBanditExp3M=25 regret: 2463.375 92.40865422134445 1877.9586654901505\n",
      "FullBanditExp3M=50 regret: 2381.6875 68.7256490966073 3800.7701241374016\n",
      "NonContextualExp3M=1 regret: 2634.75 86.61661214801697 106.5652974396944\n",
      "OnePerContextM=1 regret: 873.375 85.23121127263181 87.35318297147751\n",
      "UniformRandomM=1 regret: 2649.8125 67.15301440553506 3.0578340142965317\n",
      "\n",
      "\n",
      "20000 d: 3 K: 5 m: 2\n",
      "gamma 0.31897900833058146 M 1826\n",
      "FullBanditExp3Inv regret: 7186.3125 523.711480534607 2395.6233424544334\n",
      "FullBanditExp3M=1 regret: 4836.0625 91.53924619391401 728.6863053590059\n",
      "FullBanditExp3M=10 regret: 4841.25 65.57676798989105 3305.1245711296797\n",
      "FullBanditExp3M=25 regret: 4854.5625 93.97071934251647 7396.9438145160675\n",
      "FullBanditExp3M=50 regret: 4788.25 82.55717715619885 14478.57865139842\n",
      "NonContextualExp3M=1 regret: 2075.4375 135.73271931907206 264.32888911664486\n",
      "OnePerContextM=1 regret: 1758.3125 112.93898726192829 202.97973509132862\n",
      "UniformRandomM=1 regret: 4832.875 98.84702511962614 4.1863888800144196\n",
      "\n",
      "\n",
      "20000 d: 3 K: 8 m: 2\n",
      "gamma 0.5838994336893218 M 1920\n",
      "FullBanditExp3Inv regret: 5245.6875 511.2356011114152 5970.437734887004\n",
      "FullBanditExp3M=1 regret: 6027.6875 156.39522001567056 2030.5010237544775\n",
      "FullBanditExp3M=10 regret: 6000.6875 132.05477970808175 10415.80471508205\n",
      "FullBanditExp3M=25 regret: 5985.125 130.62727270750162 25246.364317178726\n",
      "FullBanditExp3M=50 regret: 5973.0 141.7250859939764 49877.95735107362\n",
      "NonContextualExp3M=1 regret: 4663.5 118.68498220078226 668.8176829963923\n",
      "OnePerContextM=1 regret: 2583.5 111.82016812722112 284.59571051597595\n",
      "UniformRandomM=1 regret: 6013.5625 88.49150294661064 3.2003182768821716\n",
      "\n",
      "\n",
      "20000 d: 5 K: 3 m: 2\n",
      "gamma 0.1581515860386653 M 2747\n",
      "FullBanditExp3Inv regret: 3206.5 500.0736195801574 1395.940098643303\n",
      "FullBanditExp3M=1 regret: 2643.875 30.21976795079671 294.594825476408\n",
      "FullBanditExp3M=10 regret: 2615.3125 71.33084777114317 1364.3387276530266\n",
      "FullBanditExp3M=25 regret: 2597.4375 58.1570812004007 3035.6856728494167\n",
      "FullBanditExp3M=50 regret: 2571.9375 43.3495512520026 6074.242463752627\n",
      "NonContextualExp3M=1 regret: 1125.125 81.11710285137161 135.5904288738966\n",
      "OnePerContextM=1 regret: 1329.625 94.68888200311586 112.41362607479095\n",
      "UniformRandomM=1 regret: 2639.125 52.01186763614627 3.5097891241312027\n"
     ]
    }
   ],
   "source": [
    "for dist in results.keys():\n",
    "    for length in results[dist].keys():\n",
    "        algo = FullBanditExp3()\n",
    "        sequence = sample_sequences[dist][length]\n",
    "        algo.set_constants(np.random.default_rng(), sample_sequences[dist][length])\n",
    "        print(\"\\n\")\n",
    "        print(length, \"d:\", sequence.d, \"K:\", sequence.actionset.K, \"m:\", sequence.actionset.m)\n",
    "        #print(f\"{sequence.K}/{algo.beta}*{algo.gamma}*{sequence.lambda_min}\")\n",
    "        print(\"gamma\", results[dist][\"20000\"][\"FullBanditExp3M=1\"][\"gamma\"][0], \"M\", algo.M)\n",
    "        for algo_name in results[dist][length].keys():\n",
    "            single_result = results[dist][length][algo_name]\n",
    "            if algo_name[-1] == \"1\" or algo_name[0] == \"F\":\n",
    "                print(algo_name, \"regret:\", np.average(single_result[\"regret\"]), np.std(single_result[\"regret\"]), np.average(single_result[\"time_elapsed\"]))\n"
   ]
  },
  {
   "cell_type": "code",
   "execution_count": 5,
   "metadata": {},
   "outputs": [
    {
     "ename": "OSError",
     "evalue": "output/BinaryContext1;3_IndependentBernoulli5;3/10000/0/FullBanditExp3Inv_probability_array.csv not found.",
     "output_type": "error",
     "traceback": [
      "\u001b[1;31m---------------------------------------------------------------------------\u001b[0m",
      "\u001b[1;31mOSError\u001b[0m                                   Traceback (most recent call last)",
      "\u001b[1;32m<ipython-input-5-41aeb1d12f38>\u001b[0m in \u001b[0;36m<module>\u001b[1;34m\u001b[0m\n\u001b[0;32m      2\u001b[0m \u001b[1;33m\u001b[0m\u001b[0m\n\u001b[0;32m      3\u001b[0m \u001b[1;32mfor\u001b[0m \u001b[0malgo\u001b[0m \u001b[1;32min\u001b[0m \u001b[0malgo_names\u001b[0m\u001b[1;33m:\u001b[0m\u001b[1;33m\u001b[0m\u001b[1;33m\u001b[0m\u001b[0m\n\u001b[1;32m----> 4\u001b[1;33m     \u001b[0mdata\u001b[0m \u001b[1;33m=\u001b[0m \u001b[0mnp\u001b[0m\u001b[1;33m.\u001b[0m\u001b[0mloadtxt\u001b[0m\u001b[1;33m(\u001b[0m\u001b[1;34mf\"output/BinaryContext1;3_IndependentBernoulli5;3/10000/0/{algo}_probability_array.csv\"\u001b[0m\u001b[1;33m)\u001b[0m\u001b[1;33m[\u001b[0m\u001b[1;33m:\u001b[0m\u001b[1;33m,\u001b[0m \u001b[1;36m0\u001b[0m\u001b[1;33m]\u001b[0m\u001b[1;33m\u001b[0m\u001b[1;33m\u001b[0m\u001b[0m\n\u001b[0m\u001b[0;32m      5\u001b[0m     \u001b[0maxs\u001b[0m\u001b[1;33m.\u001b[0m\u001b[0mplot\u001b[0m\u001b[1;33m(\u001b[0m\u001b[0mdata\u001b[0m\u001b[1;33m,\u001b[0m \u001b[0mlabel\u001b[0m\u001b[1;33m=\u001b[0m\u001b[0malgo\u001b[0m\u001b[1;33m)\u001b[0m\u001b[1;33m\u001b[0m\u001b[1;33m\u001b[0m\u001b[0m\n\u001b[0;32m      6\u001b[0m \u001b[1;33m\u001b[0m\u001b[0m\n",
      "\u001b[1;32mc:\\Users\\Lukas\\AppData\\Local\\Programs\\Python\\Python38\\lib\\site-packages\\numpy\\lib\\npyio.py\u001b[0m in \u001b[0;36mloadtxt\u001b[1;34m(fname, dtype, comments, delimiter, converters, skiprows, usecols, unpack, ndmin, encoding, max_rows)\u001b[0m\n\u001b[0;32m    959\u001b[0m             \u001b[0mfname\u001b[0m \u001b[1;33m=\u001b[0m \u001b[0mos_fspath\u001b[0m\u001b[1;33m(\u001b[0m\u001b[0mfname\u001b[0m\u001b[1;33m)\u001b[0m\u001b[1;33m\u001b[0m\u001b[1;33m\u001b[0m\u001b[0m\n\u001b[0;32m    960\u001b[0m         \u001b[1;32mif\u001b[0m \u001b[0m_is_string_like\u001b[0m\u001b[1;33m(\u001b[0m\u001b[0mfname\u001b[0m\u001b[1;33m)\u001b[0m\u001b[1;33m:\u001b[0m\u001b[1;33m\u001b[0m\u001b[1;33m\u001b[0m\u001b[0m\n\u001b[1;32m--> 961\u001b[1;33m             \u001b[0mfh\u001b[0m \u001b[1;33m=\u001b[0m \u001b[0mnp\u001b[0m\u001b[1;33m.\u001b[0m\u001b[0mlib\u001b[0m\u001b[1;33m.\u001b[0m\u001b[0m_datasource\u001b[0m\u001b[1;33m.\u001b[0m\u001b[0mopen\u001b[0m\u001b[1;33m(\u001b[0m\u001b[0mfname\u001b[0m\u001b[1;33m,\u001b[0m \u001b[1;34m'rt'\u001b[0m\u001b[1;33m,\u001b[0m \u001b[0mencoding\u001b[0m\u001b[1;33m=\u001b[0m\u001b[0mencoding\u001b[0m\u001b[1;33m)\u001b[0m\u001b[1;33m\u001b[0m\u001b[1;33m\u001b[0m\u001b[0m\n\u001b[0m\u001b[0;32m    962\u001b[0m             \u001b[0mfencoding\u001b[0m \u001b[1;33m=\u001b[0m \u001b[0mgetattr\u001b[0m\u001b[1;33m(\u001b[0m\u001b[0mfh\u001b[0m\u001b[1;33m,\u001b[0m \u001b[1;34m'encoding'\u001b[0m\u001b[1;33m,\u001b[0m \u001b[1;34m'latin1'\u001b[0m\u001b[1;33m)\u001b[0m\u001b[1;33m\u001b[0m\u001b[1;33m\u001b[0m\u001b[0m\n\u001b[0;32m    963\u001b[0m             \u001b[0mfh\u001b[0m \u001b[1;33m=\u001b[0m \u001b[0miter\u001b[0m\u001b[1;33m(\u001b[0m\u001b[0mfh\u001b[0m\u001b[1;33m)\u001b[0m\u001b[1;33m\u001b[0m\u001b[1;33m\u001b[0m\u001b[0m\n",
      "\u001b[1;32mc:\\Users\\Lukas\\AppData\\Local\\Programs\\Python\\Python38\\lib\\site-packages\\numpy\\lib\\_datasource.py\u001b[0m in \u001b[0;36mopen\u001b[1;34m(path, mode, destpath, encoding, newline)\u001b[0m\n\u001b[0;32m    193\u001b[0m \u001b[1;33m\u001b[0m\u001b[0m\n\u001b[0;32m    194\u001b[0m     \u001b[0mds\u001b[0m \u001b[1;33m=\u001b[0m \u001b[0mDataSource\u001b[0m\u001b[1;33m(\u001b[0m\u001b[0mdestpath\u001b[0m\u001b[1;33m)\u001b[0m\u001b[1;33m\u001b[0m\u001b[1;33m\u001b[0m\u001b[0m\n\u001b[1;32m--> 195\u001b[1;33m     \u001b[1;32mreturn\u001b[0m \u001b[0mds\u001b[0m\u001b[1;33m.\u001b[0m\u001b[0mopen\u001b[0m\u001b[1;33m(\u001b[0m\u001b[0mpath\u001b[0m\u001b[1;33m,\u001b[0m \u001b[0mmode\u001b[0m\u001b[1;33m,\u001b[0m \u001b[0mencoding\u001b[0m\u001b[1;33m=\u001b[0m\u001b[0mencoding\u001b[0m\u001b[1;33m,\u001b[0m \u001b[0mnewline\u001b[0m\u001b[1;33m=\u001b[0m\u001b[0mnewline\u001b[0m\u001b[1;33m)\u001b[0m\u001b[1;33m\u001b[0m\u001b[1;33m\u001b[0m\u001b[0m\n\u001b[0m\u001b[0;32m    196\u001b[0m \u001b[1;33m\u001b[0m\u001b[0m\n\u001b[0;32m    197\u001b[0m \u001b[1;33m\u001b[0m\u001b[0m\n",
      "\u001b[1;32mc:\\Users\\Lukas\\AppData\\Local\\Programs\\Python\\Python38\\lib\\site-packages\\numpy\\lib\\_datasource.py\u001b[0m in \u001b[0;36mopen\u001b[1;34m(self, path, mode, encoding, newline)\u001b[0m\n\u001b[0;32m    533\u001b[0m                                       encoding=encoding, newline=newline)\n\u001b[0;32m    534\u001b[0m         \u001b[1;32melse\u001b[0m\u001b[1;33m:\u001b[0m\u001b[1;33m\u001b[0m\u001b[1;33m\u001b[0m\u001b[0m\n\u001b[1;32m--> 535\u001b[1;33m             \u001b[1;32mraise\u001b[0m \u001b[0mIOError\u001b[0m\u001b[1;33m(\u001b[0m\u001b[1;34m\"%s not found.\"\u001b[0m \u001b[1;33m%\u001b[0m \u001b[0mpath\u001b[0m\u001b[1;33m)\u001b[0m\u001b[1;33m\u001b[0m\u001b[1;33m\u001b[0m\u001b[0m\n\u001b[0m\u001b[0;32m    536\u001b[0m \u001b[1;33m\u001b[0m\u001b[0m\n\u001b[0;32m    537\u001b[0m \u001b[1;33m\u001b[0m\u001b[0m\n",
      "\u001b[1;31mOSError\u001b[0m: output/BinaryContext1;3_IndependentBernoulli5;3/10000/0/FullBanditExp3Inv_probability_array.csv not found."
     ]
    },
    {
     "data": {
      "image/png": "[encoded data removed]",
      "text/plain": [
       "<Figure size 1080x1080 with 1 Axes>"
      ]
     },
     "metadata": {
      "needs_background": "light"
     },
     "output_type": "display_data"
    }
   ],
   "source": [
    "fig, axs = plt.subplots(figsize=(15, 15))\n",
    "\n",
    "for algo in algo_names:\n",
    "    data = np.loadtxt(f\"output/BinaryContext1;3_IndependentBernoulli5;3/10000/0/{algo}_probability_array.csv\")[:, 0]\n",
    "    axs.plot(data, label=algo)\n",
    "\n",
    "fig.legend()\n",
    "fig.show()"
   ]
  },
  {
   "cell_type": "code",
   "execution_count": null,
   "metadata": {},
   "outputs": [],
   "source": [
    "for name in [\"FullBanditExp3\"]:\n",
    "    for length in results[name].keys():\n",
    "        single_result = results[name][length]\n",
    "        sequence = single_result[\"sequences\"][0]\n",
    "\n",
    "        theo = theoretical_bound(int(length), sequence)\n",
    "        print(name, length, \"regret:\", np.average(single_result[\"regret\"]), f\"({theo:.2f})\")\n",
    "\n",
    "        data = single_result[\"probability_array\"][:, :, 0]\n",
    "\n",
    "        data1 = data[:, sequence.contexts[:-1, 0].astype(bool)]\n",
    "        data2 = data[:, ~sequence.contexts[:-1, 0].astype(bool)]\n",
    "\n",
    "        dataframe = pd.DataFrame(data1).melt()\n",
    "        sns.lineplot(data=dataframe, x=\"variable\", y=\"value\", label=\"context 1\")\n",
    "        dataframe = pd.DataFrame(data2).melt()\n",
    "        sns.lineplot(data=dataframe, x=\"variable\", y=\"value\", label=\"context 2\")\n",
    "\n"
   ]
  },
  {
   "cell_type": "code",
   "execution_count": null,
   "metadata": {},
   "outputs": [],
   "source": []
  }
 ],
 "metadata": {
  "kernelspec": {
   "display_name": "Python 3.8.6 64-bit",
   "language": "python",
   "name": "python3"
  },
  "language_info": {
   "codemirror_mode": {
    "name": "ipython",
    "version": 3
   },
   "file_extension": ".py",
   "mimetype": "text/x-python",
   "name": "python",
   "nbconvert_exporter": "python",
   "pygments_lexer": "ipython3",
   "version": "3.8.6"
  },
  "orig_nbformat": 4,
  "vscode": {
   "interpreter": {
    "hash": "52279f95a71c719c29b46e6649e7c2848e29d27590516e424c9feb43371b1514"
   }
  }
 },
 "nbformat": 4,
 "nbformat_minor": 2
}
