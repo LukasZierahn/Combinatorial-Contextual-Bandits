{
 "cells": [
  {
   "cell_type": "code",
   "execution_count": 1,
   "metadata": {},
   "outputs": [],
   "source": [
    "import matplotlib.pyplot as plt\n",
    "\n",
    "from distributions.sequence import Sequence\n",
    "\n",
    "from algorithms.full_bandit_exp3 import FullBanditExp3\n",
    "\n",
    "import numpy as np\n",
    "import pandas as pd\n",
    "import seaborn as sns\n",
    "\n",
    "import pickle\n",
    "import json\n",
    "\n",
    "import os"
   ]
  },
  {
   "cell_type": "code",
   "execution_count": 2,
   "metadata": {},
   "outputs": [],
   "source": [
    "def get_name(run_name):\n",
    "    return run_name.split(\"_\")[0]\n",
    "\n",
    "def get_length(run_name):\n",
    "    return run_name.split(\"_\")[1]\n",
    "\n",
    "def theoretical_bound(T, sequence: Sequence):\n",
    "    return 8 * sequence.m * np.sqrt(T * sequence.K * sequence.d * np.log(np.e * sequence.K / sequence.m) * np.log(np.sqrt(T) * sequence.m * sequence.sigma * sequence.R))\n",
    "\n"
   ]
  },
  {
   "cell_type": "code",
   "execution_count": 3,
   "metadata": {},
   "outputs": [
    {
     "name": "stdout",
     "output_type": "stream",
     "text": [
      "['FullBanditExp3InvM=10' 'FullBanditExp3M=10' 'NonContextualExp3M=10'\n",
      " 'OnePerContextM=10' 'UniformRandomM=10']\n",
      "['FullBanditExp3InvM=10' 'FullBanditExp3M=10' 'NonContextualExp3M=10'\n",
      " 'OnePerContextM=10' 'UniformRandomM=10']\n",
      "['FullBanditExp3InvM=10' 'FullBanditExp3M=10' 'NonContextualExp3M=10'\n",
      " 'OnePerContextM=10' 'UniformRandomM=10']\n",
      "['FullBanditExp3InvM=10' 'FullBanditExp3M=10' 'NonContextualExp3M=10'\n",
      " 'OnePerContextM=10' 'UniformRandomM=10']\n",
      "['FullBanditExp3InvM=10' 'FullBanditExp3M=10' 'NonContextualExp3M=10'\n",
      " 'OnePerContextM=10' 'UniformRandomM=10']\n"
     ]
    }
   ],
   "source": [
    "sample_sequences = {}\n",
    "results = {}\n",
    "distributions = os.listdir(f\"output/\")\n",
    "for dist_index, dist in enumerate(distributions):\n",
    "    results[dist] = {}\n",
    "    sample_sequences[dist] = {}\n",
    "\n",
    "    lengths = os.listdir(f\"output/{dist}\")\n",
    "\n",
    "    for length_index, length in enumerate(lengths):\n",
    "        results[dist][length] = {}\n",
    "        \n",
    "        with open(f\"output/{dist}/{length}/0/sequence.json\", \"rb\") as input_file:\n",
    "            sample_sequences[dist][length] = pickle.load(input_file)\n",
    "\n",
    "        algo_names = os.listdir(f\"output/{dist}/{length}/0\")\n",
    "        algo_names = np.unique([x.split(\"_\")[0] for x in algo_names])\n",
    "        algo_names = algo_names[algo_names != \"sequence.json\"]\n",
    "        print(algo_names)\n",
    "\n",
    "        for algo_name in algo_names:\n",
    "            results[dist][length][algo_name] = {\n",
    "                \"regret\": [],\n",
    "                \"gamma\": [],\n",
    "                \"time_elapsed\": [],\n",
    "            }\n",
    "\n",
    "            iterations = os.listdir(f\"output/{dist}/{length}/\")\n",
    "            for iteration in iterations:\n",
    "                with open(f\"output/{dist}/{length}/{iteration}/{algo_name}_general_info.json\", \"r\") as input_file:\n",
    "                    input_dict = json.load(input_file)\n",
    "\n",
    "                result_buffer = results[dist][length][algo_name]\n",
    "                result_buffer[\"regret\"].append(input_dict[\"regret\"])\n",
    "                result_buffer[\"gamma\"].append(input_dict[\"gamma\"])\n",
    "                result_buffer[\"time_elapsed\"].append(input_dict[\"time_elapsed\"])\n",
    "\n",
    "for dist_name in results.keys():\n",
    "    for length in results[dist_name].keys():\n",
    "        for algo_name in results[dist_name][length].keys():\n",
    "            for key in results[dist_name][length][algo_name].keys():\n",
    "                results[dist_name][length][algo_name][key] = np.array(results[dist_name][length][algo_name][key])"
   ]
  },
  {
   "cell_type": "code",
   "execution_count": 6,
   "metadata": {},
   "outputs": [
    {
     "name": "stdout",
     "output_type": "stream",
     "text": [
      "\n",
      "\n",
      "20000 d: 12 K: 3 m: 2\n",
      "gamma 0.24812369487532912 M 4518\n",
      "FullBanditExp3InvM=10 regret: 2679.0 111.67027357358806 6473.214283794165\n",
      "FullBanditExp3M=10 regret: 2623.0 49.59334632790976 3166.111566454172\n",
      "NonContextualExp3M=10 regret: 2533.0625 99.65908685990455 95.71278712153435\n",
      "OnePerContextM=10 regret: 1993.625 59.410515693772595 86.57697816193104\n",
      "UniformRandomM=10 regret: 2662.75 68.03078347336594 3.808442384004593\n",
      "\n",
      "\n",
      "20000 d: 3 K: 3 m: 2\n",
      "gamma 0.11247196073750401 M 2048\n",
      "FullBanditExp3InvM=10 regret: 3005.1875 101.44531701241807 638.7364738434553\n",
      "FullBanditExp3M=10 regret: 2543.25 62.81470767264622 881.9507604390383\n",
      "NonContextualExp3M=10 regret: 2642.0625 67.37624650980493 106.82167999446392\n",
      "OnePerContextM=10 regret: 875.1875 51.11777913554148 104.845582857728\n",
      "UniformRandomM=10 regret: 2661.1875 65.05787687705464 4.760405719280243\n",
      "\n",
      "\n",
      "20000 d: 3 K: 5 m: 2\n",
      "gamma 0.210210429320471 M 1826\n",
      "FullBanditExp3InvM=10 regret: 4045.25 101.991727605723 2386.9883454591036\n",
      "FullBanditExp3M=10 regret: 4731.25 96.43035051268869 3372.6690756082535\n",
      "NonContextualExp3M=10 regret: 2040.25 103.63728817370705 231.4273978471756\n",
      "OnePerContextM=10 regret: 1737.5625 91.7428258434958 161.26303021609783\n",
      "UniformRandomM=10 regret: 4821.75 101.13697395117178 4.025947153568268\n",
      "\n",
      "\n",
      "20000 d: 3 K: 8 m: 2\n",
      "gamma 0.319869057072182 M 1920\n",
      "FullBanditExp3InvM=10 regret: 5882.25 191.30946787861808 5995.7569072544575\n",
      "FullBanditExp3M=10 regret: 5952.3125 120.0180813200661 10855.60509070754\n",
      "NonContextualExp3M=10 regret: 4679.875 161.3001375541881 543.0161937177181\n",
      "OnePerContextM=10 regret: 2760.4375 117.53348924349179 262.3973142504692\n",
      "UniformRandomM=10 regret: 6005.8125 140.05722881647344 4.384778723120689\n",
      "\n",
      "\n",
      "20000 d: 5 K: 3 m: 2\n",
      "gamma 0.15088682682661647 M 2747\n",
      "FullBanditExp3InvM=10 regret: 2837.8125 75.48610695849932 1395.4785574376583\n",
      "FullBanditExp3M=10 regret: 2583.9375 54.98916796742791 1409.1004095971584\n",
      "NonContextualExp3M=10 regret: 1131.3125 81.04683734575951 112.71163913607597\n",
      "OnePerContextM=10 regret: 1291.875 72.6411341802976 93.72475734353065\n",
      "UniformRandomM=10 regret: 2636.8125 59.44558304659817 4.865975320339203\n"
     ]
    }
   ],
   "source": [
    "for dist in results.keys():\n",
    "    for length in results[dist].keys():\n",
    "        algo = FullBanditExp3()\n",
    "        sequence = sample_sequences[dist][length]\n",
    "        algo.set_constants(np.random.default_rng(), sample_sequences[dist][length])\n",
    "        print(\"\\n\")\n",
    "        print(length, \"d:\", sequence.d, \"K:\", sequence.actionset.K, \"m:\", sequence.actionset.m)\n",
    "        #print(f\"{sequence.K}/{algo.beta}*{algo.gamma}*{sequence.lambda_min}\")\n",
    "        print(\"gamma\", results[dist][\"20000\"][\"FullBanditExp3M=10\"][\"gamma\"][0], \"M\", algo.M)\n",
    "        for algo_name in results[dist][length].keys():\n",
    "            single_result = results[dist][length][algo_name]\n",
    "            print(algo_name, \"regret:\", np.average(single_result[\"regret\"]), np.std(single_result[\"regret\"]), np.average(single_result[\"time_elapsed\"]))\n"
   ]
  },
  {
   "cell_type": "code",
   "execution_count": null,
   "metadata": {},
   "outputs": [],
   "source": [
    "fig, axs = plt.subplots(figsize=(15, 15))\n",
    "\n",
    "for algo in algo_names:\n",
    "    data = np.loadtxt(f\"output/BinaryContext1;3_IndependentBernoulli5;3/10000/0/{algo}_probability_array.csv\")[:, 0]\n",
    "    axs.plot(data, label=algo)\n",
    "\n",
    "fig.legend()\n",
    "fig.show()"
   ]
  },
  {
   "cell_type": "code",
   "execution_count": null,
   "metadata": {},
   "outputs": [],
   "source": [
    "for name in [\"FullBanditExp3\"]:\n",
    "    for length in results[name].keys():\n",
    "        single_result = results[name][length]\n",
    "        sequence = single_result[\"sequences\"][0]\n",
    "\n",
    "        theo = theoretical_bound(int(length), sequence)\n",
    "        print(name, length, \"regret:\", np.average(single_result[\"regret\"]), f\"({theo:.2f})\")\n",
    "\n",
    "        data = single_result[\"probability_array\"][:, :, 0]\n",
    "\n",
    "        data1 = data[:, sequence.contexts[:-1, 0].astype(bool)]\n",
    "        data2 = data[:, ~sequence.contexts[:-1, 0].astype(bool)]\n",
    "\n",
    "        dataframe = pd.DataFrame(data1).melt()\n",
    "        sns.lineplot(data=dataframe, x=\"variable\", y=\"value\", label=\"context 1\")\n",
    "        dataframe = pd.DataFrame(data2).melt()\n",
    "        sns.lineplot(data=dataframe, x=\"variable\", y=\"value\", label=\"context 2\")\n",
    "\n"
   ]
  },
  {
   "cell_type": "code",
   "execution_count": null,
   "metadata": {},
   "outputs": [],
   "source": []
  }
 ],
 "metadata": {
  "kernelspec": {
   "display_name": "Python 3.8.6 64-bit",
   "language": "python",
   "name": "python3"
  },
  "language_info": {
   "codemirror_mode": {
    "name": "ipython",
    "version": 3
   },
   "file_extension": ".py",
   "mimetype": "text/x-python",
   "name": "python",
   "nbconvert_exporter": "python",
   "pygments_lexer": "ipython3",
   "version": "3.8.6"
  },
  "orig_nbformat": 4,
  "vscode": {
   "interpreter": {
    "hash": "52279f95a71c719c29b46e6649e7c2848e29d27590516e424c9feb43371b1514"
   }
  }
 },
 "nbformat": 4,
 "nbformat_minor": 2
}
