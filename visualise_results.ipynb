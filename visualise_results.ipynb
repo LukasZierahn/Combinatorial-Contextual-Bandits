{
 "cells": [
  {
   "cell_type": "code",
   "execution_count": 5,
   "metadata": {},
   "outputs": [],
   "source": [
    "import matplotlib.pyplot as plt\n",
    "\n",
    "from distributions.sequence import Sequence\n",
    "\n",
    "from algorithms.full_bandit_exp3 import FullBanditExp3\n",
    "\n",
    "import numpy as np\n",
    "import pandas as pd\n",
    "import seaborn as sns\n",
    "\n",
    "import pickle\n",
    "import json\n",
    "\n",
    "import os"
   ]
  },
  {
   "cell_type": "code",
   "execution_count": 6,
   "metadata": {},
   "outputs": [],
   "source": [
    "def get_name(run_name):\n",
    "    return run_name.split(\"_\")[0]\n",
    "\n",
    "def get_length(run_name):\n",
    "    return run_name.split(\"_\")[1]\n",
    "\n",
    "def theoretical_bound(T, sequence: Sequence):\n",
    "    return 8 * sequence.m * np.sqrt(T * sequence.K * sequence.d * np.log(np.e * sequence.K / sequence.m) * np.log(np.sqrt(T) * sequence.m * sequence.sigma * sequence.R))\n",
    "\n"
   ]
  },
  {
   "cell_type": "code",
   "execution_count": 7,
   "metadata": {},
   "outputs": [
    {
     "name": "stdout",
     "output_type": "stream",
     "text": [
      "['FullBanditExp3Inv' 'NonContextualExp3' 'OnePerContext' 'RealLinExp3'\n",
      " 'SemiBanditFTRLInv' 'UniformRandom']\n"
     ]
    }
   ],
   "source": [
    "sample_sequences = {}\n",
    "results = {}\n",
    "distributions = os.listdir(f\"output/\")\n",
    "for dist_index, dist in enumerate(distributions):\n",
    "    results[dist] = {}\n",
    "    sample_sequences[dist] = {}\n",
    "\n",
    "    lengths = os.listdir(f\"output/{dist}\")\n",
    "\n",
    "    for length_index, length in enumerate(lengths):\n",
    "        results[dist][length] = {}\n",
    "        \n",
    "        with open(f\"output/{dist}/{length}/0/sequence.json\", \"rb\") as input_file:\n",
    "            sample_sequences[dist][length] = pickle.load(input_file)\n",
    "\n",
    "        algo_names = os.listdir(f\"output/{dist}/{length}/0\")\n",
    "        algo_names = np.unique([x.split(\"_\")[0] for x in algo_names])\n",
    "        algo_names = algo_names[algo_names != \"sequence.json\"]\n",
    "        print(algo_names)\n",
    "\n",
    "        for algo_name in algo_names:\n",
    "            results[dist][length][algo_name] = {\n",
    "                \"regret\": [],\n",
    "                \"gamma\": [],\n",
    "                \"time_elapsed\": [],\n",
    "            }\n",
    "\n",
    "            iterations = os.listdir(f\"output/{dist}/{length}/\")\n",
    "            for iteration in iterations:\n",
    "                with open(f\"output/{dist}/{length}/{iteration}/{algo_name}_general_info.json\", \"r\") as input_file:\n",
    "                    input_dict = json.load(input_file)\n",
    "\n",
    "                result_buffer = results[dist][length][algo_name]\n",
    "                result_buffer[\"regret\"].append(input_dict[\"regret\"])\n",
    "                result_buffer[\"gamma\"].append(input_dict[\"gamma\"])\n",
    "                result_buffer[\"time_elapsed\"].append(input_dict[\"time_elapsed\"])\n",
    "\n",
    "for dist_name in results.keys():\n",
    "    for length in results[dist_name].keys():\n",
    "        for algo_name in results[dist_name][length].keys():\n",
    "            for key in results[dist_name][length][algo_name].keys():\n",
    "                results[dist_name][length][algo_name][key] = np.array(results[dist_name][length][algo_name][key])"
   ]
  },
  {
   "cell_type": "code",
   "execution_count": 8,
   "metadata": {},
   "outputs": [
    {
     "name": "stdout",
     "output_type": "stream",
     "text": [
      "\n",
      "\n",
      "10000 d: 4 K: 3 m: 1\n",
      "gamma 0.12927223909670518 M 1177\n",
      "FullBanditExp3Inv regret: 286.86 129.9893857205272 188.33084427833558\n",
      "NonContextualExp3 regret: 286.4 75.56983525190458 81.80456435203553\n",
      "OnePerContext regret: 261.3 62.05102738875481 92.10967280864716\n",
      "RealLinExp3 regret: 277.76 66.14606866624803 112.37574981689453\n",
      "SemiBanditFTRLInv regret: 271.5 60.567400472531425 143.89261372566224\n",
      "UniformRandom regret: 324.06 69.26540550664524 3.4494634008407594\n"
     ]
    }
   ],
   "source": [
    "for dist in results.keys():\n",
    "    for length in results[dist].keys():\n",
    "        algo = FullBanditExp3()\n",
    "        sequence = sample_sequences[dist][length]\n",
    "        algo.set_constants(np.random.default_rng(), sample_sequences[dist][length])\n",
    "        print(\"\\n\")\n",
    "        print(length, \"d:\", sequence.d, \"K:\", sequence.actionset.K, \"m:\", sequence.actionset.m)\n",
    "        #print(f\"{sequence.K}/{algo.beta}*{algo.gamma}*{sequence.lambda_min}\")\n",
    "        print(\"gamma\", results[dist][length][\"FullBanditExp3Inv\"][\"gamma\"][0], \"M\", algo.M)\n",
    "        for algo_name in results[dist][length].keys():\n",
    "            single_result = results[dist][length][algo_name]\n",
    "            print(algo_name, \"regret:\", np.average(single_result[\"regret\"]), np.std(single_result[\"regret\"]), np.average(single_result[\"time_elapsed\"]))\n"
   ]
  },
  {
   "cell_type": "code",
   "execution_count": 9,
   "metadata": {},
   "outputs": [
    {
     "ename": "OSError",
     "evalue": "output/BinaryContext1;3_IndependentBernoulli5;3/10000/0/FullBanditExp3Inv_probability_array.csv not found.",
     "output_type": "error",
     "traceback": [
      "\u001b[1;31m---------------------------------------------------------------------------\u001b[0m",
      "\u001b[1;31mOSError\u001b[0m                                   Traceback (most recent call last)",
      "\u001b[1;32m<ipython-input-9-41aeb1d12f38>\u001b[0m in \u001b[0;36m<module>\u001b[1;34m\u001b[0m\n\u001b[0;32m      2\u001b[0m \u001b[1;33m\u001b[0m\u001b[0m\n\u001b[0;32m      3\u001b[0m \u001b[1;32mfor\u001b[0m \u001b[0malgo\u001b[0m \u001b[1;32min\u001b[0m \u001b[0malgo_names\u001b[0m\u001b[1;33m:\u001b[0m\u001b[1;33m\u001b[0m\u001b[1;33m\u001b[0m\u001b[0m\n\u001b[1;32m----> 4\u001b[1;33m     \u001b[0mdata\u001b[0m \u001b[1;33m=\u001b[0m \u001b[0mnp\u001b[0m\u001b[1;33m.\u001b[0m\u001b[0mloadtxt\u001b[0m\u001b[1;33m(\u001b[0m\u001b[1;34mf\"output/BinaryContext1;3_IndependentBernoulli5;3/10000/0/{algo}_probability_array.csv\"\u001b[0m\u001b[1;33m)\u001b[0m\u001b[1;33m[\u001b[0m\u001b[1;33m:\u001b[0m\u001b[1;33m,\u001b[0m \u001b[1;36m0\u001b[0m\u001b[1;33m]\u001b[0m\u001b[1;33m\u001b[0m\u001b[1;33m\u001b[0m\u001b[0m\n\u001b[0m\u001b[0;32m      5\u001b[0m     \u001b[0maxs\u001b[0m\u001b[1;33m.\u001b[0m\u001b[0mplot\u001b[0m\u001b[1;33m(\u001b[0m\u001b[0mdata\u001b[0m\u001b[1;33m,\u001b[0m \u001b[0mlabel\u001b[0m\u001b[1;33m=\u001b[0m\u001b[0malgo\u001b[0m\u001b[1;33m)\u001b[0m\u001b[1;33m\u001b[0m\u001b[1;33m\u001b[0m\u001b[0m\n\u001b[0;32m      6\u001b[0m \u001b[1;33m\u001b[0m\u001b[0m\n",
      "\u001b[1;32mc:\\Users\\Lukas\\AppData\\Local\\Programs\\Python\\Python38\\lib\\site-packages\\numpy\\lib\\npyio.py\u001b[0m in \u001b[0;36mloadtxt\u001b[1;34m(fname, dtype, comments, delimiter, converters, skiprows, usecols, unpack, ndmin, encoding, max_rows)\u001b[0m\n\u001b[0;32m    959\u001b[0m             \u001b[0mfname\u001b[0m \u001b[1;33m=\u001b[0m \u001b[0mos_fspath\u001b[0m\u001b[1;33m(\u001b[0m\u001b[0mfname\u001b[0m\u001b[1;33m)\u001b[0m\u001b[1;33m\u001b[0m\u001b[1;33m\u001b[0m\u001b[0m\n\u001b[0;32m    960\u001b[0m         \u001b[1;32mif\u001b[0m \u001b[0m_is_string_like\u001b[0m\u001b[1;33m(\u001b[0m\u001b[0mfname\u001b[0m\u001b[1;33m)\u001b[0m\u001b[1;33m:\u001b[0m\u001b[1;33m\u001b[0m\u001b[1;33m\u001b[0m\u001b[0m\n\u001b[1;32m--> 961\u001b[1;33m             \u001b[0mfh\u001b[0m \u001b[1;33m=\u001b[0m \u001b[0mnp\u001b[0m\u001b[1;33m.\u001b[0m\u001b[0mlib\u001b[0m\u001b[1;33m.\u001b[0m\u001b[0m_datasource\u001b[0m\u001b[1;33m.\u001b[0m\u001b[0mopen\u001b[0m\u001b[1;33m(\u001b[0m\u001b[0mfname\u001b[0m\u001b[1;33m,\u001b[0m \u001b[1;34m'rt'\u001b[0m\u001b[1;33m,\u001b[0m \u001b[0mencoding\u001b[0m\u001b[1;33m=\u001b[0m\u001b[0mencoding\u001b[0m\u001b[1;33m)\u001b[0m\u001b[1;33m\u001b[0m\u001b[1;33m\u001b[0m\u001b[0m\n\u001b[0m\u001b[0;32m    962\u001b[0m             \u001b[0mfencoding\u001b[0m \u001b[1;33m=\u001b[0m \u001b[0mgetattr\u001b[0m\u001b[1;33m(\u001b[0m\u001b[0mfh\u001b[0m\u001b[1;33m,\u001b[0m \u001b[1;34m'encoding'\u001b[0m\u001b[1;33m,\u001b[0m \u001b[1;34m'latin1'\u001b[0m\u001b[1;33m)\u001b[0m\u001b[1;33m\u001b[0m\u001b[1;33m\u001b[0m\u001b[0m\n\u001b[0;32m    963\u001b[0m             \u001b[0mfh\u001b[0m \u001b[1;33m=\u001b[0m \u001b[0miter\u001b[0m\u001b[1;33m(\u001b[0m\u001b[0mfh\u001b[0m\u001b[1;33m)\u001b[0m\u001b[1;33m\u001b[0m\u001b[1;33m\u001b[0m\u001b[0m\n",
      "\u001b[1;32mc:\\Users\\Lukas\\AppData\\Local\\Programs\\Python\\Python38\\lib\\site-packages\\numpy\\lib\\_datasource.py\u001b[0m in \u001b[0;36mopen\u001b[1;34m(path, mode, destpath, encoding, newline)\u001b[0m\n\u001b[0;32m    193\u001b[0m \u001b[1;33m\u001b[0m\u001b[0m\n\u001b[0;32m    194\u001b[0m     \u001b[0mds\u001b[0m \u001b[1;33m=\u001b[0m \u001b[0mDataSource\u001b[0m\u001b[1;33m(\u001b[0m\u001b[0mdestpath\u001b[0m\u001b[1;33m)\u001b[0m\u001b[1;33m\u001b[0m\u001b[1;33m\u001b[0m\u001b[0m\n\u001b[1;32m--> 195\u001b[1;33m     \u001b[1;32mreturn\u001b[0m \u001b[0mds\u001b[0m\u001b[1;33m.\u001b[0m\u001b[0mopen\u001b[0m\u001b[1;33m(\u001b[0m\u001b[0mpath\u001b[0m\u001b[1;33m,\u001b[0m \u001b[0mmode\u001b[0m\u001b[1;33m,\u001b[0m \u001b[0mencoding\u001b[0m\u001b[1;33m=\u001b[0m\u001b[0mencoding\u001b[0m\u001b[1;33m,\u001b[0m \u001b[0mnewline\u001b[0m\u001b[1;33m=\u001b[0m\u001b[0mnewline\u001b[0m\u001b[1;33m)\u001b[0m\u001b[1;33m\u001b[0m\u001b[1;33m\u001b[0m\u001b[0m\n\u001b[0m\u001b[0;32m    196\u001b[0m \u001b[1;33m\u001b[0m\u001b[0m\n\u001b[0;32m    197\u001b[0m \u001b[1;33m\u001b[0m\u001b[0m\n",
      "\u001b[1;32mc:\\Users\\Lukas\\AppData\\Local\\Programs\\Python\\Python38\\lib\\site-packages\\numpy\\lib\\_datasource.py\u001b[0m in \u001b[0;36mopen\u001b[1;34m(self, path, mode, encoding, newline)\u001b[0m\n\u001b[0;32m    533\u001b[0m                                       encoding=encoding, newline=newline)\n\u001b[0;32m    534\u001b[0m         \u001b[1;32melse\u001b[0m\u001b[1;33m:\u001b[0m\u001b[1;33m\u001b[0m\u001b[1;33m\u001b[0m\u001b[0m\n\u001b[1;32m--> 535\u001b[1;33m             \u001b[1;32mraise\u001b[0m \u001b[0mIOError\u001b[0m\u001b[1;33m(\u001b[0m\u001b[1;34m\"%s not found.\"\u001b[0m \u001b[1;33m%\u001b[0m \u001b[0mpath\u001b[0m\u001b[1;33m)\u001b[0m\u001b[1;33m\u001b[0m\u001b[1;33m\u001b[0m\u001b[0m\n\u001b[0m\u001b[0;32m    536\u001b[0m \u001b[1;33m\u001b[0m\u001b[0m\n\u001b[0;32m    537\u001b[0m \u001b[1;33m\u001b[0m\u001b[0m\n",
      "\u001b[1;31mOSError\u001b[0m: output/BinaryContext1;3_IndependentBernoulli5;3/10000/0/FullBanditExp3Inv_probability_array.csv not found."
     ]
    },
    {
     "data": {
      "image/png": "[encoded data removed]",
      "text/plain": [
       "<Figure size 1080x1080 with 1 Axes>"
      ]
     },
     "metadata": {
      "needs_background": "light"
     },
     "output_type": "display_data"
    }
   ],
   "source": [
    "fig, axs = plt.subplots(figsize=(15, 15))\n",
    "\n",
    "for algo in algo_names:\n",
    "    data = np.loadtxt(f\"output/BinaryContext1;3_IndependentBernoulli5;3/10000/0/{algo}_probability_array.csv\")[:, 0]\n",
    "    axs.plot(data, label=algo)\n",
    "\n",
    "fig.legend()\n",
    "fig.show()"
   ]
  },
  {
   "cell_type": "code",
   "execution_count": null,
   "metadata": {},
   "outputs": [],
   "source": [
    "for name in [\"FullBanditExp3\"]:\n",
    "    for length in results[name].keys():\n",
    "        single_result = results[name][length]\n",
    "        sequence = single_result[\"sequences\"][0]\n",
    "\n",
    "        theo = theoretical_bound(int(length), sequence)\n",
    "        print(name, length, \"regret:\", np.average(single_result[\"regret\"]), f\"({theo:.2f})\")\n",
    "\n",
    "        data = single_result[\"probability_array\"][:, :, 0]\n",
    "\n",
    "        data1 = data[:, sequence.contexts[:-1, 0].astype(bool)]\n",
    "        data2 = data[:, ~sequence.contexts[:-1, 0].astype(bool)]\n",
    "\n",
    "        dataframe = pd.DataFrame(data1).melt()\n",
    "        sns.lineplot(data=dataframe, x=\"variable\", y=\"value\", label=\"context 1\")\n",
    "        dataframe = pd.DataFrame(data2).melt()\n",
    "        sns.lineplot(data=dataframe, x=\"variable\", y=\"value\", label=\"context 2\")\n",
    "\n"
   ]
  },
  {
   "cell_type": "code",
   "execution_count": null,
   "metadata": {},
   "outputs": [],
   "source": []
  }
 ],
 "metadata": {
  "kernelspec": {
   "display_name": "Python 3.8.6 64-bit",
   "language": "python",
   "name": "python3"
  },
  "language_info": {
   "codemirror_mode": {
    "name": "ipython",
    "version": 3
   },
   "file_extension": ".py",
   "mimetype": "text/x-python",
   "name": "python",
   "nbconvert_exporter": "python",
   "pygments_lexer": "ipython3",
   "version": "3.8.6"
  },
  "orig_nbformat": 4,
  "vscode": {
   "interpreter": {
    "hash": "52279f95a71c719c29b46e6649e7c2848e29d27590516e424c9feb43371b1514"
   }
  }
 },
 "nbformat": 4,
 "nbformat_minor": 2
}
