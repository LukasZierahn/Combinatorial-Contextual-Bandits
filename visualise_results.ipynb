{
 "cells": [
  {
   "cell_type": "code",
   "execution_count": 1,
   "metadata": {},
   "outputs": [],
   "source": [
    "import matplotlib.pyplot as plt\n",
    "\n",
    "from distributions.sequence import Sequence\n",
    "\n",
    "from algorithms.full_bandit_exp3 import FullBanditExp3\n",
    "\n",
    "import numpy as np\n",
    "import pandas as pd\n",
    "import seaborn as sns\n",
    "\n",
    "import pickle\n",
    "import json\n",
    "\n",
    "import os"
   ]
  },
  {
   "cell_type": "code",
   "execution_count": 2,
   "metadata": {},
   "outputs": [],
   "source": [
    "def get_name(run_name):\n",
    "    return run_name.split(\"_\")[0]\n",
    "\n",
    "def get_length(run_name):\n",
    "    return run_name.split(\"_\")[1]\n",
    "\n",
    "def theoretical_bound(T, sequence: Sequence):\n",
    "    return 8 * sequence.m * np.sqrt(T * sequence.K * sequence.d * np.log(np.e * sequence.K / sequence.m) * np.log(np.sqrt(T) * sequence.m * sequence.sigma * sequence.R))\n",
    "\n"
   ]
  },
  {
   "cell_type": "code",
   "execution_count": 3,
   "metadata": {},
   "outputs": [
    {
     "name": "stdout",
     "output_type": "stream",
     "text": [
      "['FullBanditExp3Inv' 'NonContextualExp3' 'OnePerContext' 'RealLinExp3'\n",
      " 'SemiBanditFTRLInv' 'UniformRandom']\n",
      "['FullBanditExp3Inv' 'NonContextualExp3' 'OnePerContext' 'RealLinExp3'\n",
      " 'SemiBanditFTRLInv' 'UniformRandom']\n",
      "['FullBanditExp3Inv' 'NonContextualExp3' 'OnePerContext' 'RealLinExp3'\n",
      " 'SemiBanditFTRLInv' 'UniformRandom']\n",
      "['FullBanditExp3Inv' 'NonContextualExp3' 'OnePerContext' 'RealLinExp3'\n",
      " 'SemiBanditFTRLInv' 'UniformRandom']\n",
      "['FullBanditExp3Inv' 'NonContextualExp3' 'OnePerContext' 'RealLinExp3'\n",
      " 'SemiBanditFTRLInv' 'UniformRandom']\n",
      "['FullBanditExp3Inv' 'NonContextualExp3' 'OnePerContext' 'RealLinExp3'\n",
      " 'SemiBanditFTRLInv' 'UniformRandom']\n",
      "['FullBanditExp3Inv' 'NonContextualExp3' 'OnePerContext' 'RealLinExp3'\n",
      " 'SemiBanditFTRLInv' 'UniformRandom']\n",
      "['FullBanditExp3Inv' 'NonContextualExp3' 'OnePerContext' 'RealLinExp3'\n",
      " 'SemiBanditFTRLInv' 'UniformRandom']\n",
      "['FullBanditExp3Inv' 'NonContextualExp3' 'OnePerContext' 'RealLinExp3'\n",
      " 'SemiBanditFTRLInv' 'UniformRandom']\n"
     ]
    }
   ],
   "source": [
    "sample_sequences = {}\n",
    "results = {}\n",
    "distributions = os.listdir(f\"output/\")\n",
    "for dist_index, dist in enumerate(distributions):\n",
    "    results[dist] = {}\n",
    "    sample_sequences[dist] = {}\n",
    "\n",
    "    lengths = os.listdir(f\"output/{dist}\")\n",
    "\n",
    "    for length_index, length in enumerate(lengths):\n",
    "        results[dist][length] = {}\n",
    "        \n",
    "        with open(f\"output/{dist}/{length}/0/sequence.json\", \"rb\") as input_file:\n",
    "            sample_sequences[dist][length] = pickle.load(input_file)\n",
    "\n",
    "        algo_names = os.listdir(f\"output/{dist}/{length}/0\")\n",
    "        algo_names = np.unique([x.split(\"_\")[0] for x in algo_names])\n",
    "        algo_names = algo_names[algo_names != \"sequence.json\"]\n",
    "        print(algo_names)\n",
    "\n",
    "        for algo_name in algo_names:\n",
    "            results[dist][length][algo_name] = {\n",
    "                \"regret\": [],\n",
    "                \"gamma\": [],\n",
    "                \"time_elapsed\": [],\n",
    "            }\n",
    "\n",
    "            iterations = os.listdir(f\"output/{dist}/{length}/\")\n",
    "            for iteration in iterations:\n",
    "                with open(f\"output/{dist}/{length}/{iteration}/{algo_name}_general_info.json\", \"r\") as input_file:\n",
    "                    input_dict = json.load(input_file)\n",
    "\n",
    "                result_buffer = results[dist][length][algo_name]\n",
    "                result_buffer[\"regret\"].append(input_dict[\"regret\"])\n",
    "                result_buffer[\"gamma\"].append(input_dict[\"gamma\"])\n",
    "                result_buffer[\"time_elapsed\"].append(input_dict[\"time_elapsed\"])\n",
    "\n",
    "for dist_name in results.keys():\n",
    "    for length in results[dist_name].keys():\n",
    "        for algo_name in results[dist_name][length].keys():\n",
    "            for key in results[dist_name][length][algo_name].keys():\n",
    "                results[dist_name][length][algo_name][key] = np.array(results[dist_name][length][algo_name][key])"
   ]
  },
  {
   "cell_type": "code",
   "execution_count": 4,
   "metadata": {},
   "outputs": [
    {
     "name": "stdout",
     "output_type": "stream",
     "text": [
      "\n",
      "\n",
      "100000 d: 3 K: 3 m: 1\n",
      "gamma 0.036818372294773326 M 3352\n",
      "FullBanditExp3Inv regret: 950.44 638.2800062668421 1799.7144367790222\n",
      "NonContextualExp3 regret: 4014.24 172.13977576376703 727.0523976707459\n",
      "OnePerContext regret: 900.4 526.9214742255244 799.996561946869\n",
      "RealLinExp3 regret: 3417.28 125.39554059056486 804.691691455841\n",
      "SemiBanditFTRLInv regret: 1891.16 133.76866000674448 627.8420544433594\n",
      "UniformRandom regret: 6625.84 154.34705828100516 28.671024246215822\n",
      "\n",
      "\n",
      "100000 d: 3 K: 5 m: 2\n",
      "gamma 0.0997469059299606 M 4332\n",
      "FullBanditExp3Inv regret: 4073.24 1656.6086630221394 3351.2318760871885\n",
      "NonContextualExp3 regret: 8321.96 408.43373807754915 1808.7820525836944\n",
      "OnePerContext regret: 2054.32 1063.991079661855 1816.4832445907593\n",
      "RealLinExp3 regret: 7961.76 324.43616074660974 1113.2695250415802\n",
      "SemiBanditFTRLInv regret: 5343.04 160.61419115383296 1701.7871111488341\n",
      "UniformRandom regret: 11912.92 224.65883824145445 36.55358818054199\n",
      "\n",
      "\n",
      "100000 d: 3 K: 8 m: 3\n",
      "gamma 0.20717032381693107 M 5147\n",
      "FullBanditExp3Inv regret: 8846.56 1882.4936457794488 4767.45569516182\n",
      "NonContextualExp3 regret: 9866.68 531.9296735471711 2789.729085597992\n",
      "OnePerContext regret: 5073.4 2082.4888186974736 2774.805675344467\n",
      "RealLinExp3 regret: 15771.88 346.38548699389816 1231.9319526195527\n",
      "SemiBanditFTRLInv regret: 13926.48 220.82864306968878 3491.6103023433684\n",
      "UniformRandom regret: 18713.48 276.64795245943895 36.27343137741089\n",
      "\n",
      "\n",
      "100000 d: 5 K: 3 m: 1\n",
      "gamma 0.05041731539112136 M 4590\n",
      "FullBanditExp3Inv regret: 5131.36 2269.345612814408 3535.7486464881895\n",
      "NonContextualExp3 regret: 4809.44 266.6867945737096 1032.8516345214844\n",
      "OnePerContext regret: 1489.56 673.5912754779414 1248.647423400879\n",
      "RealLinExp3 regret: 2703.96 210.43164780992424 2037.2360653018952\n",
      "SemiBanditFTRLInv regret: 2110.4 201.53391774091028 2442.3458118152616\n",
      "UniformRandom regret: 5716.36 249.59052546120415 35.9165263748169\n",
      "\n",
      "\n",
      "100000 d: 5 K: 5 m: 2\n",
      "gamma 0.13622277117528625 M 5917\n",
      "FullBanditExp3Inv regret: 12238.12 2893.386725897525 2536.7784940433503\n",
      "NonContextualExp3 regret: 6124.64 431.4156121421662 1115.435941801071\n",
      "OnePerContext regret: 4216.96 1532.2322142547455 1194.3409278011322\n",
      "RealLinExp3 regret: 7593.92 343.8648478690429 1245.5142089939118\n",
      "SemiBanditFTRLInv regret: 5582.64 247.88801987994498 3833.4522447872164\n",
      "UniformRandom regret: 12434.76 321.1366413226619 27.831893100738526\n",
      "\n",
      "\n",
      "100000 d: 5 K: 8 m: 3\n",
      "gamma 0.28251685239321195 M 7019\n",
      "FullBanditExp3Inv regret: 18650.12 3301.8025055414805 6650.29378619194\n",
      "NonContextualExp3 regret: 11459.76 1330.7607833115612 1665.7817491912842\n",
      "OnePerContext regret: 9144.6 2410.8634801663907 1685.3031372070313\n",
      "RealLinExp3 regret: 15875.96 544.2818740321967 1330.6473072338104\n",
      "SemiBanditFTRLInv regret: 14663.32 261.5669275730401 7856.563744564057\n",
      "UniformRandom regret: 19406.84 433.5099242231947 25.40521252632141\n",
      "\n",
      "\n",
      "100000 d: 12 K: 3 m: 1\n",
      "gamma 0.08338723999894554 M 7591\n",
      "FullBanditExp3Inv regret: 8942.8 1453.2431317573808 10053.153702049256\n",
      "NonContextualExp3 regret: 7512.84 315.799516149091 469.4717082309723\n",
      "OnePerContext regret: 8008.52 767.0763779442044 601.767104768753\n",
      "RealLinExp3 regret: 5865.08 272.66432403231636 4956.340886449814\n",
      "SemiBanditFTRLInv regret: 5216.0 310.23487876123795 16296.778210391998\n",
      "UniformRandom regret: 9471.84 311.17283686080316 22.754086303710938\n",
      "\n",
      "\n",
      "100000 d: 12 K: 5 m: 2\n",
      "gamma 0.2247093782156001 M 9760\n",
      "FullBanditExp3Inv regret: 18716.4 1906.4163658550563 18835.105686216353\n",
      "NonContextualExp3 regret: 11059.32 1176.021997073184 1383.8809737205506\n",
      "OnePerContext regret: 15836.56 1057.5502666067462 1521.2750488948823\n",
      "RealLinExp3 regret: 13421.48 542.6390417211057 6410.5014696598055\n",
      "SemiBanditFTRLInv regret: 12193.32 433.3345792802601 66247.57355430603\n",
      "UniformRandom regret: 18274.88 496.90122318223365 31.25346405982971\n",
      "\n",
      "\n",
      "100000 d: 12 K: 8 m: 3\n",
      "gamma 0.46535691186530936 M 11561\n",
      "FullBanditExp3Inv regret: 26553.72 1558.9066045148438 26249.876936750414\n",
      "NonContextualExp3 regret: 23747.48 1589.616057291823 1162.6574869060516\n",
      "OnePerContext regret: 24478.2 1030.574713448763 1280.376203584671\n",
      "RealLinExp3 regret: 23693.52 580.8696321895301 4101.982748832703\n",
      "SemiBanditFTRLInv regret: 23568.28 300.76309880036814 114247.44751914025\n",
      "UniformRandom regret: 26576.8 440.2666464768822 24.477764406204223\n"
     ]
    }
   ],
   "source": [
    "for dist in results.keys():\n",
    "    for length in results[dist].keys():\n",
    "        algo = FullBanditExp3()\n",
    "        sequence = sample_sequences[dist][length]\n",
    "        algo.set_constants(np.random.default_rng(), sample_sequences[dist][length])\n",
    "        print(\"\\n\")\n",
    "        print(length, \"d:\", sequence.d, \"K:\", sequence.actionset.K, \"m:\", sequence.actionset.m)\n",
    "        #print(f\"{sequence.K}/{algo.beta}*{algo.gamma}*{sequence.lambda_min}\")\n",
    "        print(\"gamma\", results[dist][length][\"FullBanditExp3Inv\"][\"gamma\"][0], \"M\", algo.M)\n",
    "        for algo_name in results[dist][length].keys():\n",
    "            single_result = results[dist][length][algo_name]\n",
    "            print(algo_name, \"regret:\", np.average(single_result[\"regret\"]), np.std(single_result[\"regret\"]), np.average(single_result[\"time_elapsed\"]))\n"
   ]
  },
  {
   "cell_type": "code",
   "execution_count": 5,
   "metadata": {},
   "outputs": [
    {
     "ename": "OSError",
     "evalue": "output/BinaryContext1;3_IndependentBernoulli5;3/10000/0/FullBanditExp3Inv_probability_array.csv not found.",
     "output_type": "error",
     "traceback": [
      "\u001b[1;31m---------------------------------------------------------------------------\u001b[0m",
      "\u001b[1;31mOSError\u001b[0m                                   Traceback (most recent call last)",
      "\u001b[1;32m<ipython-input-5-41aeb1d12f38>\u001b[0m in \u001b[0;36m<module>\u001b[1;34m\u001b[0m\n\u001b[0;32m      2\u001b[0m \u001b[1;33m\u001b[0m\u001b[0m\n\u001b[0;32m      3\u001b[0m \u001b[1;32mfor\u001b[0m \u001b[0malgo\u001b[0m \u001b[1;32min\u001b[0m \u001b[0malgo_names\u001b[0m\u001b[1;33m:\u001b[0m\u001b[1;33m\u001b[0m\u001b[1;33m\u001b[0m\u001b[0m\n\u001b[1;32m----> 4\u001b[1;33m     \u001b[0mdata\u001b[0m \u001b[1;33m=\u001b[0m \u001b[0mnp\u001b[0m\u001b[1;33m.\u001b[0m\u001b[0mloadtxt\u001b[0m\u001b[1;33m(\u001b[0m\u001b[1;34mf\"output/BinaryContext1;3_IndependentBernoulli5;3/10000/0/{algo}_probability_array.csv\"\u001b[0m\u001b[1;33m)\u001b[0m\u001b[1;33m[\u001b[0m\u001b[1;33m:\u001b[0m\u001b[1;33m,\u001b[0m \u001b[1;36m0\u001b[0m\u001b[1;33m]\u001b[0m\u001b[1;33m\u001b[0m\u001b[1;33m\u001b[0m\u001b[0m\n\u001b[0m\u001b[0;32m      5\u001b[0m     \u001b[0maxs\u001b[0m\u001b[1;33m.\u001b[0m\u001b[0mplot\u001b[0m\u001b[1;33m(\u001b[0m\u001b[0mdata\u001b[0m\u001b[1;33m,\u001b[0m \u001b[0mlabel\u001b[0m\u001b[1;33m=\u001b[0m\u001b[0malgo\u001b[0m\u001b[1;33m)\u001b[0m\u001b[1;33m\u001b[0m\u001b[1;33m\u001b[0m\u001b[0m\n\u001b[0;32m      6\u001b[0m \u001b[1;33m\u001b[0m\u001b[0m\n",
      "\u001b[1;32mc:\\Users\\Lukas\\AppData\\Local\\Programs\\Python\\Python38\\lib\\site-packages\\numpy\\lib\\npyio.py\u001b[0m in \u001b[0;36mloadtxt\u001b[1;34m(fname, dtype, comments, delimiter, converters, skiprows, usecols, unpack, ndmin, encoding, max_rows)\u001b[0m\n\u001b[0;32m    959\u001b[0m             \u001b[0mfname\u001b[0m \u001b[1;33m=\u001b[0m \u001b[0mos_fspath\u001b[0m\u001b[1;33m(\u001b[0m\u001b[0mfname\u001b[0m\u001b[1;33m)\u001b[0m\u001b[1;33m\u001b[0m\u001b[1;33m\u001b[0m\u001b[0m\n\u001b[0;32m    960\u001b[0m         \u001b[1;32mif\u001b[0m \u001b[0m_is_string_like\u001b[0m\u001b[1;33m(\u001b[0m\u001b[0mfname\u001b[0m\u001b[1;33m)\u001b[0m\u001b[1;33m:\u001b[0m\u001b[1;33m\u001b[0m\u001b[1;33m\u001b[0m\u001b[0m\n\u001b[1;32m--> 961\u001b[1;33m             \u001b[0mfh\u001b[0m \u001b[1;33m=\u001b[0m \u001b[0mnp\u001b[0m\u001b[1;33m.\u001b[0m\u001b[0mlib\u001b[0m\u001b[1;33m.\u001b[0m\u001b[0m_datasource\u001b[0m\u001b[1;33m.\u001b[0m\u001b[0mopen\u001b[0m\u001b[1;33m(\u001b[0m\u001b[0mfname\u001b[0m\u001b[1;33m,\u001b[0m \u001b[1;34m'rt'\u001b[0m\u001b[1;33m,\u001b[0m \u001b[0mencoding\u001b[0m\u001b[1;33m=\u001b[0m\u001b[0mencoding\u001b[0m\u001b[1;33m)\u001b[0m\u001b[1;33m\u001b[0m\u001b[1;33m\u001b[0m\u001b[0m\n\u001b[0m\u001b[0;32m    962\u001b[0m             \u001b[0mfencoding\u001b[0m \u001b[1;33m=\u001b[0m \u001b[0mgetattr\u001b[0m\u001b[1;33m(\u001b[0m\u001b[0mfh\u001b[0m\u001b[1;33m,\u001b[0m \u001b[1;34m'encoding'\u001b[0m\u001b[1;33m,\u001b[0m \u001b[1;34m'latin1'\u001b[0m\u001b[1;33m)\u001b[0m\u001b[1;33m\u001b[0m\u001b[1;33m\u001b[0m\u001b[0m\n\u001b[0;32m    963\u001b[0m             \u001b[0mfh\u001b[0m \u001b[1;33m=\u001b[0m \u001b[0miter\u001b[0m\u001b[1;33m(\u001b[0m\u001b[0mfh\u001b[0m\u001b[1;33m)\u001b[0m\u001b[1;33m\u001b[0m\u001b[1;33m\u001b[0m\u001b[0m\n",
      "\u001b[1;32mc:\\Users\\Lukas\\AppData\\Local\\Programs\\Python\\Python38\\lib\\site-packages\\numpy\\lib\\_datasource.py\u001b[0m in \u001b[0;36mopen\u001b[1;34m(path, mode, destpath, encoding, newline)\u001b[0m\n\u001b[0;32m    193\u001b[0m \u001b[1;33m\u001b[0m\u001b[0m\n\u001b[0;32m    194\u001b[0m     \u001b[0mds\u001b[0m \u001b[1;33m=\u001b[0m \u001b[0mDataSource\u001b[0m\u001b[1;33m(\u001b[0m\u001b[0mdestpath\u001b[0m\u001b[1;33m)\u001b[0m\u001b[1;33m\u001b[0m\u001b[1;33m\u001b[0m\u001b[0m\n\u001b[1;32m--> 195\u001b[1;33m     \u001b[1;32mreturn\u001b[0m \u001b[0mds\u001b[0m\u001b[1;33m.\u001b[0m\u001b[0mopen\u001b[0m\u001b[1;33m(\u001b[0m\u001b[0mpath\u001b[0m\u001b[1;33m,\u001b[0m \u001b[0mmode\u001b[0m\u001b[1;33m,\u001b[0m \u001b[0mencoding\u001b[0m\u001b[1;33m=\u001b[0m\u001b[0mencoding\u001b[0m\u001b[1;33m,\u001b[0m \u001b[0mnewline\u001b[0m\u001b[1;33m=\u001b[0m\u001b[0mnewline\u001b[0m\u001b[1;33m)\u001b[0m\u001b[1;33m\u001b[0m\u001b[1;33m\u001b[0m\u001b[0m\n\u001b[0m\u001b[0;32m    196\u001b[0m \u001b[1;33m\u001b[0m\u001b[0m\n\u001b[0;32m    197\u001b[0m \u001b[1;33m\u001b[0m\u001b[0m\n",
      "\u001b[1;32mc:\\Users\\Lukas\\AppData\\Local\\Programs\\Python\\Python38\\lib\\site-packages\\numpy\\lib\\_datasource.py\u001b[0m in \u001b[0;36mopen\u001b[1;34m(self, path, mode, encoding, newline)\u001b[0m\n\u001b[0;32m    533\u001b[0m                                       encoding=encoding, newline=newline)\n\u001b[0;32m    534\u001b[0m         \u001b[1;32melse\u001b[0m\u001b[1;33m:\u001b[0m\u001b[1;33m\u001b[0m\u001b[1;33m\u001b[0m\u001b[0m\n\u001b[1;32m--> 535\u001b[1;33m             \u001b[1;32mraise\u001b[0m \u001b[0mIOError\u001b[0m\u001b[1;33m(\u001b[0m\u001b[1;34m\"%s not found.\"\u001b[0m \u001b[1;33m%\u001b[0m \u001b[0mpath\u001b[0m\u001b[1;33m)\u001b[0m\u001b[1;33m\u001b[0m\u001b[1;33m\u001b[0m\u001b[0m\n\u001b[0m\u001b[0;32m    536\u001b[0m \u001b[1;33m\u001b[0m\u001b[0m\n\u001b[0;32m    537\u001b[0m \u001b[1;33m\u001b[0m\u001b[0m\n",
      "\u001b[1;31mOSError\u001b[0m: output/BinaryContext1;3_IndependentBernoulli5;3/10000/0/FullBanditExp3Inv_probability_array.csv not found."
     ]
    },
    {
     "data": {
      "image/png": "[encoded data removed]",
      "text/plain": [
       "<Figure size 1080x1080 with 1 Axes>"
      ]
     },
     "metadata": {
      "needs_background": "light"
     },
     "output_type": "display_data"
    }
   ],
   "source": [
    "fig, axs = plt.subplots(figsize=(15, 15))\n",
    "\n",
    "for algo in algo_names:\n",
    "    data = np.loadtxt(f\"output/BinaryContext1;3_IndependentBernoulli5;3/10000/0/{algo}_probability_array.csv\")[:, 0]\n",
    "    axs.plot(data, label=algo)\n",
    "\n",
    "fig.legend()\n",
    "fig.show()"
   ]
  },
  {
   "cell_type": "code",
   "execution_count": null,
   "metadata": {},
   "outputs": [],
   "source": [
    "for name in [\"FullBanditExp3\"]:\n",
    "    for length in results[name].keys():\n",
    "        single_result = results[name][length]\n",
    "        sequence = single_result[\"sequences\"][0]\n",
    "\n",
    "        theo = theoretical_bound(int(length), sequence)\n",
    "        print(name, length, \"regret:\", np.average(single_result[\"regret\"]), f\"({theo:.2f})\")\n",
    "\n",
    "        data = single_result[\"probability_array\"][:, :, 0]\n",
    "\n",
    "        data1 = data[:, sequence.contexts[:-1, 0].astype(bool)]\n",
    "        data2 = data[:, ~sequence.contexts[:-1, 0].astype(bool)]\n",
    "\n",
    "        dataframe = pd.DataFrame(data1).melt()\n",
    "        sns.lineplot(data=dataframe, x=\"variable\", y=\"value\", label=\"context 1\")\n",
    "        dataframe = pd.DataFrame(data2).melt()\n",
    "        sns.lineplot(data=dataframe, x=\"variable\", y=\"value\", label=\"context 2\")\n",
    "\n"
   ]
  },
  {
   "cell_type": "code",
   "execution_count": null,
   "metadata": {},
   "outputs": [],
   "source": []
  }
 ],
 "metadata": {
  "kernelspec": {
   "display_name": "Python 3.8.6 64-bit",
   "language": "python",
   "name": "python3"
  },
  "language_info": {
   "codemirror_mode": {
    "name": "ipython",
    "version": 3
   },
   "file_extension": ".py",
   "mimetype": "text/x-python",
   "name": "python",
   "nbconvert_exporter": "python",
   "pygments_lexer": "ipython3",
   "version": "3.8.6"
  },
  "orig_nbformat": 4,
  "vscode": {
   "interpreter": {
    "hash": "52279f95a71c719c29b46e6649e7c2848e29d27590516e424c9feb43371b1514"
   }
  }
 },
 "nbformat": 4,
 "nbformat_minor": 2
}
