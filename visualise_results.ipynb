{
 "cells": [
  {
   "cell_type": "code",
   "execution_count": 1,
   "metadata": {},
   "outputs": [],
   "source": [
    "import matplotlib.pyplot as plt\n",
    "\n",
    "from distributions.sequence import Sequence\n",
    "\n",
    "from algorithms.full_bandit_exp3 import FullBanditExp3\n",
    "\n",
    "import numpy as np\n",
    "import pandas as pd\n",
    "import seaborn as sns\n",
    "\n",
    "import pickle\n",
    "import json\n",
    "\n",
    "import os"
   ]
  },
  {
   "cell_type": "code",
   "execution_count": 2,
   "metadata": {},
   "outputs": [],
   "source": [
    "def get_name(run_name):\n",
    "    return run_name.split(\"_\")[0]\n",
    "\n",
    "def get_length(run_name):\n",
    "    return run_name.split(\"_\")[1]\n",
    "\n",
    "def theoretical_bound(T, sequence: Sequence):\n",
    "    return 8 * sequence.m * np.sqrt(T * sequence.K * sequence.d * np.log(np.e * sequence.K / sequence.m) * np.log(np.sqrt(T) * sequence.m * sequence.sigma * sequence.R))\n",
    "\n"
   ]
  },
  {
   "cell_type": "code",
   "execution_count": 3,
   "metadata": {},
   "outputs": [
    {
     "name": "stdout",
     "output_type": "stream",
     "text": [
      "['FullBanditExp3Inv' 'NonContextualExp3' 'OnePerContext' 'UniformRandom']\n",
      "['FullBanditExp3Inv' 'NonContextualExp3' 'OnePerContext' 'UniformRandom']\n",
      "['FullBanditExp3Inv' 'NonContextualExp3' 'OnePerContext' 'UniformRandom']\n",
      "['FullBanditExp3Inv' 'NonContextualExp3' 'OnePerContext' 'UniformRandom']\n",
      "['FullBanditExp3Inv' 'NonContextualExp3' 'OnePerContext' 'UniformRandom']\n"
     ]
    }
   ],
   "source": [
    "sample_sequences = {}\n",
    "results = {}\n",
    "distributions = os.listdir(f\"output/\")\n",
    "for dist_index, dist in enumerate(distributions):\n",
    "    results[dist] = {}\n",
    "    sample_sequences[dist] = {}\n",
    "\n",
    "    lengths = os.listdir(f\"output/{dist}\")\n",
    "\n",
    "    for length_index, length in enumerate(lengths):\n",
    "        results[dist][length] = {}\n",
    "        \n",
    "        with open(f\"output/{dist}/{length}/0/sequence.json\", \"rb\") as input_file:\n",
    "            sample_sequences[dist][length] = pickle.load(input_file)\n",
    "\n",
    "        algo_names = os.listdir(f\"output/{dist}/{length}/0\")\n",
    "        algo_names = np.unique([x.split(\"_\")[0] for x in algo_names])\n",
    "        algo_names = algo_names[algo_names != \"sequence.json\"]\n",
    "        print(algo_names)\n",
    "\n",
    "        for algo_name in algo_names:\n",
    "            results[dist][length][algo_name] = {\n",
    "                \"regret\": [],\n",
    "                \"gamma\": [],\n",
    "                \"time_elapsed\": [],\n",
    "            }\n",
    "\n",
    "            iterations = os.listdir(f\"output/{dist}/{length}/\")\n",
    "            for iteration in iterations:\n",
    "                with open(f\"output/{dist}/{length}/{iteration}/{algo_name}_general_info.json\", \"r\") as input_file:\n",
    "                    input_dict = json.load(input_file)\n",
    "\n",
    "                result_buffer = results[dist][length][algo_name]\n",
    "                result_buffer[\"regret\"].append(input_dict[\"regret\"])\n",
    "                result_buffer[\"gamma\"].append(input_dict[\"gamma\"])\n",
    "                result_buffer[\"time_elapsed\"].append(input_dict[\"time_elapsed\"])\n",
    "\n",
    "for dist_name in results.keys():\n",
    "    for length in results[dist_name].keys():\n",
    "        for algo_name in results[dist_name][length].keys():\n",
    "            for key in results[dist_name][length][algo_name].keys():\n",
    "                results[dist_name][length][algo_name][key] = np.array(results[dist_name][length][algo_name][key])"
   ]
  },
  {
   "cell_type": "code",
   "execution_count": 6,
   "metadata": {},
   "outputs": [
    {
     "name": "stdout",
     "output_type": "stream",
     "text": [
      "\n",
      "\n",
      "20000 d: 12 K: 3 m: 2\n",
      "gamma 0.24812369487532912 M 4518\n",
      "FullBanditExp3Inv regret: 1071.1875 72.41047813507379 2732.882684931159\n",
      "NonContextualExp3 regret: 2549.5625 83.05944313411932 121.95283952355385\n",
      "OnePerContext regret: 2002.0625 68.36068748740024 200.76402519643307\n",
      "UniformRandom regret: 2638.375 76.60929692276258 4.351218804717064\n",
      "\n",
      "\n",
      "20000 d: 3 K: 3 m: 2\n",
      "gamma 0.11247196073750401 M 2048\n",
      "FullBanditExp3Inv regret: 409.625 94.14209672086128 269.62085027992725\n",
      "NonContextualExp3 regret: 2628.125 72.1152506409012 266.73045778274536\n",
      "OnePerContext regret: 892.5625 64.7707194166469 270.8491290807724\n",
      "UniformRandom regret: 2648.8125 70.9050586612126 11.042132541537285\n",
      "\n",
      "\n",
      "20000 d: 3 K: 5 m: 2\n",
      "gamma 0.210210429320471 M 1826\n",
      "FullBanditExp3Inv regret: 1226.6875 107.72634238546298 935.377404332161\n",
      "NonContextualExp3 regret: 2072.4375 69.39377561244235 439.9270383864641\n",
      "OnePerContext regret: 1744.5 109.37207138936338 459.92372094094753\n",
      "UniformRandom regret: 4854.5 90.59249417032296 6.985009655356407\n",
      "\n",
      "\n",
      "20000 d: 3 K: 8 m: 2\n",
      "gamma 0.319869057072182 M 1920\n",
      "FullBanditExp3Inv regret: 2320.5625 292.7417737422352 991.2290282547474\n",
      "NonContextualExp3 regret: 4633.9375 131.13231330892475 752.00404509902\n",
      "OnePerContext regret: 2692.0625 140.48463828387074 763.7583386451006\n",
      "UniformRandom regret: 6014.5 112.36046902714496 8.492087304592133\n",
      "\n",
      "\n",
      "20000 d: 5 K: 3 m: 2\n",
      "gamma 0.15088682682661647 M 2747\n",
      "FullBanditExp3Inv regret: 591.8125 74.88008642990471 653.8498061001301\n",
      "NonContextualExp3 regret: 1141.625 74.07165027863225 288.13451704382896\n",
      "OnePerContext regret: 1314.25 45.87687325875642 333.48548386991024\n",
      "UniformRandom regret: 2665.625 39.19482587025997 9.622991234064102\n"
     ]
    }
   ],
   "source": [
    "for dist in results.keys():\n",
    "    for length in results[dist].keys():\n",
    "        algo = FullBanditExp3()\n",
    "        sequence = sample_sequences[dist][length]\n",
    "        algo.set_constants(np.random.default_rng(), sample_sequences[dist][length])\n",
    "        print(\"\\n\")\n",
    "        print(length, \"d:\", sequence.d, \"K:\", sequence.actionset.K, \"m:\", sequence.actionset.m)\n",
    "        #print(f\"{sequence.K}/{algo.beta}*{algo.gamma}*{sequence.lambda_min}\")\n",
    "        print(\"gamma\", results[dist][\"20000\"][\"FullBanditExp3Inv\"][\"gamma\"][0], \"M\", algo.M)\n",
    "        for algo_name in results[dist][length].keys():\n",
    "            single_result = results[dist][length][algo_name]\n",
    "            print(algo_name, \"regret:\", np.average(single_result[\"regret\"]), np.std(single_result[\"regret\"]), np.average(single_result[\"time_elapsed\"]))\n"
   ]
  },
  {
   "cell_type": "code",
   "execution_count": null,
   "metadata": {},
   "outputs": [],
   "source": [
    "fig, axs = plt.subplots(figsize=(15, 15))\n",
    "\n",
    "for algo in algo_names:\n",
    "    data = np.loadtxt(f\"output/BinaryContext1;3_IndependentBernoulli5;3/10000/0/{algo}_probability_array.csv\")[:, 0]\n",
    "    axs.plot(data, label=algo)\n",
    "\n",
    "fig.legend()\n",
    "fig.show()"
   ]
  },
  {
   "cell_type": "code",
   "execution_count": null,
   "metadata": {},
   "outputs": [],
   "source": [
    "for name in [\"FullBanditExp3\"]:\n",
    "    for length in results[name].keys():\n",
    "        single_result = results[name][length]\n",
    "        sequence = single_result[\"sequences\"][0]\n",
    "\n",
    "        theo = theoretical_bound(int(length), sequence)\n",
    "        print(name, length, \"regret:\", np.average(single_result[\"regret\"]), f\"({theo:.2f})\")\n",
    "\n",
    "        data = single_result[\"probability_array\"][:, :, 0]\n",
    "\n",
    "        data1 = data[:, sequence.contexts[:-1, 0].astype(bool)]\n",
    "        data2 = data[:, ~sequence.contexts[:-1, 0].astype(bool)]\n",
    "\n",
    "        dataframe = pd.DataFrame(data1).melt()\n",
    "        sns.lineplot(data=dataframe, x=\"variable\", y=\"value\", label=\"context 1\")\n",
    "        dataframe = pd.DataFrame(data2).melt()\n",
    "        sns.lineplot(data=dataframe, x=\"variable\", y=\"value\", label=\"context 2\")\n",
    "\n"
   ]
  },
  {
   "cell_type": "code",
   "execution_count": null,
   "metadata": {},
   "outputs": [],
   "source": []
  }
 ],
 "metadata": {
  "kernelspec": {
   "display_name": "Python 3.8.6 64-bit",
   "language": "python",
   "name": "python3"
  },
  "language_info": {
   "codemirror_mode": {
    "name": "ipython",
    "version": 3
   },
   "file_extension": ".py",
   "mimetype": "text/x-python",
   "name": "python",
   "nbconvert_exporter": "python",
   "pygments_lexer": "ipython3",
   "version": "3.8.6"
  },
  "orig_nbformat": 4,
  "vscode": {
   "interpreter": {
    "hash": "52279f95a71c719c29b46e6649e7c2848e29d27590516e424c9feb43371b1514"
   }
  }
 },
 "nbformat": 4,
 "nbformat_minor": 2
}
