{
 "cells": [
  {
   "cell_type": "code",
   "execution_count": 1,
   "metadata": {},
   "outputs": [],
   "source": [
    "import matplotlib.pyplot as plt\n",
    "\n",
    "from distributions.sequence import Sequence\n",
    "\n",
    "from algorithms.full_bandit_exp3 import FullBanditExp3\n",
    "\n",
    "import numpy as np\n",
    "import pandas as pd\n",
    "import seaborn as sns\n",
    "\n",
    "import pickle\n",
    "import json\n",
    "\n",
    "import os"
   ]
  },
  {
   "cell_type": "code",
   "execution_count": 2,
   "metadata": {},
   "outputs": [],
   "source": [
    "def get_name(run_name):\n",
    "    return run_name.split(\"_\")[0]\n",
    "\n",
    "def get_length(run_name):\n",
    "    return run_name.split(\"_\")[1]\n",
    "\n",
    "def theoretical_bound(T, sequence: Sequence):\n",
    "    return 8 * sequence.m * np.sqrt(T * sequence.K * sequence.d * np.log(np.e * sequence.K / sequence.m) * np.log(np.sqrt(T) * sequence.m * sequence.sigma * sequence.R))\n",
    "\n"
   ]
  },
  {
   "cell_type": "code",
   "execution_count": 3,
   "metadata": {},
   "outputs": [
    {
     "name": "stdout",
     "output_type": "stream",
     "text": [
      "['FullBanditExp3M=10' 'NonContextualExp3M=10']\n",
      "['FullBanditExp3M=10' 'NonContextualExp3M=10' 'OnePerContextM=10'\n",
      " 'UniformRandomM=10']\n"
     ]
    },
    {
     "ename": "FileNotFoundError",
     "evalue": "[Errno 2] No such file or directory: 'output/BinaryContext1;3_IndependentBernoulli3;3/20000/11/OnePerContextM=10_general_info.json'",
     "output_type": "error",
     "traceback": [
      "\u001b[1;31m---------------------------------------------------------------------------\u001b[0m",
      "\u001b[1;31mFileNotFoundError\u001b[0m                         Traceback (most recent call last)",
      "\u001b[1;32m<ipython-input-3-99f43ea3b9a6>\u001b[0m in \u001b[0;36m<module>\u001b[1;34m\u001b[0m\n\u001b[0;32m     28\u001b[0m             \u001b[0miterations\u001b[0m \u001b[1;33m=\u001b[0m \u001b[0mos\u001b[0m\u001b[1;33m.\u001b[0m\u001b[0mlistdir\u001b[0m\u001b[1;33m(\u001b[0m\u001b[1;34mf\"output/{dist}/{length}/\"\u001b[0m\u001b[1;33m)\u001b[0m\u001b[1;33m\u001b[0m\u001b[1;33m\u001b[0m\u001b[0m\n\u001b[0;32m     29\u001b[0m             \u001b[1;32mfor\u001b[0m \u001b[0miteration\u001b[0m \u001b[1;32min\u001b[0m \u001b[0miterations\u001b[0m\u001b[1;33m:\u001b[0m\u001b[1;33m\u001b[0m\u001b[1;33m\u001b[0m\u001b[0m\n\u001b[1;32m---> 30\u001b[1;33m                 \u001b[1;32mwith\u001b[0m \u001b[0mopen\u001b[0m\u001b[1;33m(\u001b[0m\u001b[1;34mf\"output/{dist}/{length}/{iteration}/{algo_name}_general_info.json\"\u001b[0m\u001b[1;33m,\u001b[0m \u001b[1;34m\"r\"\u001b[0m\u001b[1;33m)\u001b[0m \u001b[1;32mas\u001b[0m \u001b[0minput_file\u001b[0m\u001b[1;33m:\u001b[0m\u001b[1;33m\u001b[0m\u001b[1;33m\u001b[0m\u001b[0m\n\u001b[0m\u001b[0;32m     31\u001b[0m                     \u001b[0minput_dict\u001b[0m \u001b[1;33m=\u001b[0m \u001b[0mjson\u001b[0m\u001b[1;33m.\u001b[0m\u001b[0mload\u001b[0m\u001b[1;33m(\u001b[0m\u001b[0minput_file\u001b[0m\u001b[1;33m)\u001b[0m\u001b[1;33m\u001b[0m\u001b[1;33m\u001b[0m\u001b[0m\n\u001b[0;32m     32\u001b[0m \u001b[1;33m\u001b[0m\u001b[0m\n",
      "\u001b[1;31mFileNotFoundError\u001b[0m: [Errno 2] No such file or directory: 'output/BinaryContext1;3_IndependentBernoulli3;3/20000/11/OnePerContextM=10_general_info.json'"
     ]
    }
   ],
   "source": [
    "sample_sequences = {}\n",
    "results = {}\n",
    "distributions = os.listdir(f\"output/\")\n",
    "for dist_index, dist in enumerate(distributions):\n",
    "    results[dist] = {}\n",
    "    sample_sequences[dist] = {}\n",
    "\n",
    "    lengths = os.listdir(f\"output/{dist}\")\n",
    "\n",
    "    for length_index, length in enumerate(lengths):\n",
    "        results[dist][length] = {}\n",
    "        \n",
    "        with open(f\"output/{dist}/{length}/0/sequence.json\", \"rb\") as input_file:\n",
    "            sample_sequences[dist][length] = pickle.load(input_file)\n",
    "\n",
    "        algo_names = os.listdir(f\"output/{dist}/{length}/0\")\n",
    "        algo_names = np.unique([x.split(\"_\")[0] for x in algo_names])\n",
    "        algo_names = algo_names[algo_names != \"sequence.json\"]\n",
    "        print(algo_names)\n",
    "\n",
    "        for algo_name in algo_names:\n",
    "            results[dist][length][algo_name] = {\n",
    "                \"regret\": [],\n",
    "                \"gamma\": [],\n",
    "                \"time_elapsed\": [],\n",
    "            }\n",
    "\n",
    "            iterations = os.listdir(f\"output/{dist}/{length}/\")\n",
    "            for iteration in iterations:\n",
    "                with open(f\"output/{dist}/{length}/{iteration}/{algo_name}_general_info.json\", \"r\") as input_file:\n",
    "                    input_dict = json.load(input_file)\n",
    "\n",
    "                result_buffer = results[dist][length][algo_name]\n",
    "                result_buffer[\"regret\"].append(input_dict[\"regret\"])\n",
    "                result_buffer[\"gamma\"].append(input_dict[\"gamma\"])\n",
    "                result_buffer[\"time_elapsed\"].append(input_dict[\"time_elapsed\"])\n",
    "\n",
    "for dist_name in results.keys():\n",
    "    for length in results[dist_name].keys():\n",
    "        for algo_name in results[dist_name][length].keys():\n",
    "            for key in results[dist_name][length][algo_name].keys():\n",
    "                results[dist_name][length][algo_name][key] = np.array(results[dist_name][length][algo_name][key])"
   ]
  },
  {
   "cell_type": "code",
   "execution_count": null,
   "metadata": {},
   "outputs": [],
   "source": [
    "for dist in results.keys():\n",
    "    for length in results[dist].keys():\n",
    "        algo = FullBanditExp3()\n",
    "        sequence = sample_sequences[dist][length]\n",
    "        algo.set_constants(np.random.default_rng(), sample_sequences[dist][length])\n",
    "        print(\"\\n\")\n",
    "        print(length, \"d:\", sequence.d, \"K:\", sequence.actionset.K, \"m:\", sequence.actionset.m)\n",
    "        #print(f\"{sequence.K}/{algo.beta}*{algo.gamma}*{sequence.lambda_min}\")\n",
    "        print(\"gamma\", results[dist][\"20000\"][\"FullBanditExp3M=1\"][\"gamma\"][0], \"M\", algo.M)\n",
    "        for algo_name in results[dist][length].keys():\n",
    "            single_result = results[dist][length][algo_name]\n",
    "            if algo_name[-1] == \"1\" or algo_name[0] == \"F\":\n",
    "                print(algo_name, \"regret:\", np.average(single_result[\"regret\"]), np.std(single_result[\"regret\"]), np.average(single_result[\"time_elapsed\"]))\n"
   ]
  },
  {
   "cell_type": "code",
   "execution_count": null,
   "metadata": {},
   "outputs": [],
   "source": [
    "fig, axs = plt.subplots(figsize=(15, 15))\n",
    "\n",
    "for algo in algo_names:\n",
    "    data = np.loadtxt(f\"output/BinaryContext1;3_IndependentBernoulli5;3/10000/0/{algo}_probability_array.csv\")[:, 0]\n",
    "    axs.plot(data, label=algo)\n",
    "\n",
    "fig.legend()\n",
    "fig.show()"
   ]
  },
  {
   "cell_type": "code",
   "execution_count": null,
   "metadata": {},
   "outputs": [],
   "source": [
    "for name in [\"FullBanditExp3\"]:\n",
    "    for length in results[name].keys():\n",
    "        single_result = results[name][length]\n",
    "        sequence = single_result[\"sequences\"][0]\n",
    "\n",
    "        theo = theoretical_bound(int(length), sequence)\n",
    "        print(name, length, \"regret:\", np.average(single_result[\"regret\"]), f\"({theo:.2f})\")\n",
    "\n",
    "        data = single_result[\"probability_array\"][:, :, 0]\n",
    "\n",
    "        data1 = data[:, sequence.contexts[:-1, 0].astype(bool)]\n",
    "        data2 = data[:, ~sequence.contexts[:-1, 0].astype(bool)]\n",
    "\n",
    "        dataframe = pd.DataFrame(data1).melt()\n",
    "        sns.lineplot(data=dataframe, x=\"variable\", y=\"value\", label=\"context 1\")\n",
    "        dataframe = pd.DataFrame(data2).melt()\n",
    "        sns.lineplot(data=dataframe, x=\"variable\", y=\"value\", label=\"context 2\")\n",
    "\n"
   ]
  },
  {
   "cell_type": "code",
   "execution_count": null,
   "metadata": {},
   "outputs": [],
   "source": []
  }
 ],
 "metadata": {
  "kernelspec": {
   "display_name": "Python 3.8.6 64-bit",
   "language": "python",
   "name": "python3"
  },
  "language_info": {
   "codemirror_mode": {
    "name": "ipython",
    "version": 3
   },
   "file_extension": ".py",
   "mimetype": "text/x-python",
   "name": "python",
   "nbconvert_exporter": "python",
   "pygments_lexer": "ipython3",
   "version": "3.8.6"
  },
  "orig_nbformat": 4,
  "vscode": {
   "interpreter": {
    "hash": "52279f95a71c719c29b46e6649e7c2848e29d27590516e424c9feb43371b1514"
   }
  }
 },
 "nbformat": 4,
 "nbformat_minor": 2
}
