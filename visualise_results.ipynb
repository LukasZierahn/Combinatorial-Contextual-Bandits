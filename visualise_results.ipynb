{
 "cells": [
  {
   "cell_type": "code",
   "execution_count": 1,
   "metadata": {},
   "outputs": [],
   "source": [
    "import matplotlib.pyplot as plt\n",
    "\n",
    "from distributions.sequence import Sequence\n",
    "\n",
    "from algorithms.full_bandit_exp3 import FullBanditExp3\n",
    "\n",
    "import numpy as np\n",
    "import pandas as pd\n",
    "import seaborn as sns\n",
    "\n",
    "import pickle\n",
    "import json\n",
    "\n",
    "import os"
   ]
  },
  {
   "cell_type": "code",
   "execution_count": 2,
   "metadata": {},
   "outputs": [],
   "source": [
    "def get_name(run_name):\n",
    "    return run_name.split(\"_\")[0]\n",
    "\n",
    "def get_length(run_name):\n",
    "    return run_name.split(\"_\")[1]\n",
    "\n",
    "def theoretical_bound(T, sequence: Sequence):\n",
    "    return 8 * sequence.m * np.sqrt(T * sequence.K * sequence.d * np.log(np.e * sequence.K / sequence.m) * np.log(np.sqrt(T) * sequence.m * sequence.sigma * sequence.R))\n",
    "\n"
   ]
  },
  {
   "cell_type": "code",
   "execution_count": 3,
   "metadata": {},
   "outputs": [
    {
     "name": "stdout",
     "output_type": "stream",
     "text": [
      "['FullBanditExp3Inv' 'NonContextualExp3' 'OnePerContext' 'RealLinExp3'\n",
      " 'SemiBanditFTRLInv' 'UniformRandom']\n",
      "['FullBanditExp3Inv' 'NonContextualExp3' 'OnePerContext' 'RealLinExp3'\n",
      " 'SemiBanditFTRLInv' 'UniformRandom']\n",
      "['FullBanditExp3Inv' 'NonContextualExp3' 'OnePerContext' 'RealLinExp3'\n",
      " 'SemiBanditFTRLInv' 'UniformRandom']\n",
      "['FullBanditExp3Inv' 'NonContextualExp3' 'OnePerContext' 'RealLinExp3'\n",
      " 'SemiBanditFTRLInv' 'UniformRandom']\n",
      "['FullBanditExp3Inv' 'NonContextualExp3' 'OnePerContext' 'RealLinExp3'\n",
      " 'SemiBanditFTRLInv' 'UniformRandom']\n",
      "['FullBanditExp3Inv' 'NonContextualExp3' 'OnePerContext' 'RealLinExp3'\n",
      " 'SemiBanditFTRLInv' 'UniformRandom']\n",
      "['FullBanditExp3Inv' 'NonContextualExp3' 'OnePerContext' 'RealLinExp3'\n",
      " 'SemiBanditFTRLInv' 'UniformRandom']\n",
      "['FullBanditExp3Inv' 'NonContextualExp3' 'OnePerContext' 'RealLinExp3'\n",
      " 'SemiBanditFTRLInv' 'UniformRandom']\n",
      "['FullBanditExp3Inv' 'NonContextualExp3' 'OnePerContext' 'RealLinExp3'\n",
      " 'SemiBanditFTRLInv' 'UniformRandom']\n"
     ]
    }
   ],
   "source": [
    "sample_sequences = {}\n",
    "results = {}\n",
    "distributions = os.listdir(f\"output/\")\n",
    "for dist_index, dist in enumerate(distributions):\n",
    "    results[dist] = {}\n",
    "    sample_sequences[dist] = {}\n",
    "\n",
    "    lengths = os.listdir(f\"output/{dist}\")\n",
    "\n",
    "    for length_index, length in enumerate(lengths):\n",
    "        results[dist][length] = {}\n",
    "        \n",
    "        with open(f\"output/{dist}/{length}/0/sequence.json\", \"rb\") as input_file:\n",
    "            sample_sequences[dist][length] = pickle.load(input_file)\n",
    "\n",
    "        algo_names = os.listdir(f\"output/{dist}/{length}/0\")\n",
    "        algo_names = np.unique([x.split(\"_\")[0] for x in algo_names])\n",
    "        algo_names = algo_names[algo_names != \"sequence.json\"]\n",
    "        print(algo_names)\n",
    "\n",
    "        for algo_name in algo_names:\n",
    "            results[dist][length][algo_name] = {\n",
    "                \"regret\": [],\n",
    "                \"gamma\": [],\n",
    "                \"time_elapsed\": [],\n",
    "            }\n",
    "\n",
    "            iterations = os.listdir(f\"output/{dist}/{length}/\")\n",
    "            for iteration in iterations:\n",
    "                with open(f\"output/{dist}/{length}/{iteration}/{algo_name}_general_info.json\", \"r\") as input_file:\n",
    "                    input_dict = json.load(input_file)\n",
    "\n",
    "                result_buffer = results[dist][length][algo_name]\n",
    "                result_buffer[\"regret\"].append(input_dict[\"regret\"])\n",
    "                result_buffer[\"gamma\"].append(input_dict[\"gamma\"])\n",
    "                result_buffer[\"time_elapsed\"].append(input_dict[\"time_elapsed\"])\n",
    "\n",
    "for dist_name in results.keys():\n",
    "    for length in results[dist_name].keys():\n",
    "        for algo_name in results[dist_name][length].keys():\n",
    "            for key in results[dist_name][length][algo_name].keys():\n",
    "                results[dist_name][length][algo_name][key] = np.array(results[dist_name][length][algo_name][key])"
   ]
  },
  {
   "cell_type": "code",
   "execution_count": 4,
   "metadata": {},
   "outputs": [
    {
     "name": "stdout",
     "output_type": "stream",
     "text": [
      "\n",
      "\n",
      "100000 d: 12 K: 3 m: 1\n",
      "gamma 0.08073989205311842 M 7350\n",
      "FullBanditExp3Inv regret: 1376.16 150.42704012244607 13814.61770828247\n",
      "NonContextualExp3 regret: 3164.28 194.3130505138551 1247.8380892181397\n",
      "OnePerContext regret: 1510.76 610.1038783682661 1585.9764264011383\n",
      "RealLinExp3 regret: 2959.52 137.6930266934386 3151.4655682373045\n",
      "SemiBanditFTRLInv regret: 2608.28 152.2149848076726 2537.454222793579\n",
      "UniformRandom regret: 3360.36 210.30851242876503 43.69678240776062\n",
      "\n",
      "\n",
      "100000 d: 12 K: 5 m: 2\n",
      "gamma 0.2178502392089596 M 9462\n",
      "FullBanditExp3Inv regret: 4017.2 341.1063177368605 12561.291136922837\n",
      "NonContextualExp3 regret: 5482.12 341.43196335434095 1923.7083423519134\n",
      "OnePerContext regret: 3634.24 962.6306157607912 2086.100585632324\n",
      "RealLinExp3 regret: 5646.0 187.758142300141 3227.795486698151\n",
      "SemiBanditFTRLInv regret: 5054.84 150.1600958976785 6437.871975154877\n",
      "UniformRandom regret: 5970.44 222.58662673215565 44.96820595741272\n",
      "\n",
      "\n",
      "100000 d: 12 K: 8 m: 3\n",
      "gamma 0.45146520244632127 M 11216\n",
      "FullBanditExp3Inv regret: 8001.64 444.8296644784383 19579.94773159027\n",
      "NonContextualExp3 regret: 9140.28 484.6677641436451 1878.090300064087\n",
      "OnePerContext regret: 6832.56 1060.6661710453484 2369.699927253723\n",
      "RealLinExp3 regret: 9226.4 303.66718624178014 3200.766020755768\n",
      "SemiBanditFTRLInv regret: 8826.76 258.8868911320154 9939.867238712312\n",
      "UniformRandom regret: 9328.0 292.23647958459946 36.324788579940794\n",
      "\n",
      "\n",
      "100000 d: 3 K: 3 m: 1\n",
      "gamma 0.036818372294773326 M 3352\n",
      "FullBanditExp3Inv regret: 662.28 358.89346831615643 3233.885676727295\n",
      "NonContextualExp3 regret: 2296.68 178.0810422251622 1492.8520441055298\n",
      "OnePerContext regret: 855.32 469.9112869468023 1726.298613538742\n",
      "RealLinExp3 regret: 2483.0 159.55488084041804 1603.3190808200836\n",
      "SemiBanditFTRLInv regret: 1852.56 166.7606860144201 1267.5817790794372\n",
      "UniformRandom regret: 3291.44 171.65688567604855 51.57081548690796\n",
      "\n",
      "\n",
      "100000 d: 3 K: 5 m: 2\n",
      "gamma 0.0997469059299606 M 4332\n",
      "FullBanditExp3Inv regret: 2160.4 777.9549087190079 4266.718215208053\n",
      "NonContextualExp3 regret: 4703.8 282.7601103409036 2370.8818229198455\n",
      "OnePerContext regret: 1985.12 908.6028976401077 2391.0319913291933\n",
      "RealLinExp3 regret: 5185.2 256.14714521149756 1392.0534164047242\n",
      "SemiBanditFTRLInv regret: 4085.96 179.1058860004327 2350.236890707016\n",
      "UniformRandom regret: 5983.12 227.28613156107878 43.644404859542846\n",
      "\n",
      "\n",
      "100000 d: 3 K: 8 m: 3\n",
      "gamma 0.20717032381693107 M 5147\n",
      "FullBanditExp3Inv regret: 5513.88 1230.8479782653908 4507.922458686829\n",
      "NonContextualExp3 regret: 6265.08 549.7990120034775 2824.667800579071\n",
      "OnePerContext regret: 4535.0 1442.8467971340547 2709.9968931484223\n",
      "RealLinExp3 regret: 8927.08 285.4376177030631 1453.0531631851197\n",
      "SemiBanditFTRLInv regret: 8132.08 290.90340939906497 4063.6984841632843\n",
      "UniformRandom regret: 9200.24 296.0848905297263 41.19270034790039\n",
      "\n",
      "\n",
      "100000 d: 5 K: 3 m: 1\n",
      "gamma 0.04927149977101348 M 4485\n",
      "FullBanditExp3Inv regret: 797.96 249.84819070787765 3478.072104301453\n",
      "NonContextualExp3 regret: 3309.88 183.70570377644785 1298.199317522049\n",
      "OnePerContext regret: 1110.04 557.6040516352083 1538.6940446662902\n",
      "RealLinExp3 regret: 2773.64 142.96094012002018 2064.159367160797\n",
      "SemiBanditFTRLInv regret: 2112.52 144.9477478265875 1558.5662512588501\n",
      "UniformRandom regret: 3396.8 175.3652189004422 50.279072847366336\n",
      "\n",
      "\n",
      "100000 d: 5 K: 5 m: 2\n",
      "gamma 0.13326150308348733 M 5788\n",
      "FullBanditExp3Inv regret: 2693.2 669.2993351259211 5262.196007413864\n",
      "NonContextualExp3 regret: 5083.4 373.62119854205275 2503.7336061954497\n",
      "OnePerContext regret: 2586.4 994.9602605129513 2611.0230438423155\n",
      "RealLinExp3 regret: 5445.4 239.35396382763332 2413.107993707657\n",
      "SemiBanditFTRLInv regret: 4441.52 214.55854585636993 3805.882863693237\n",
      "UniformRandom regret: 6005.4 222.3440577123661 43.99045777320862\n",
      "\n",
      "\n",
      "100000 d: 5 K: 8 m: 3\n",
      "gamma 0.2765277173737446 M 6870\n",
      "FullBanditExp3Inv regret: 6093.6 728.0846654064347 13592.911298570632\n",
      "NonContextualExp3 regret: 8077.92 458.15690936621263 2518.9963962459565\n",
      "OnePerContext regret: 5606.64 1408.3882385194786 2618.1763321590424\n",
      "RealLinExp3 regret: 9184.52 335.81043700278286 1835.6964854431153\n",
      "SemiBanditFTRLInv regret: 8496.8 268.06044094569415 6406.859033288955\n",
      "UniformRandom regret: 9474.64 334.6828803509376 34.96900270462036\n"
     ]
    }
   ],
   "source": [
    "for dist in results.keys():\n",
    "    for length in results[dist].keys():\n",
    "        algo = FullBanditExp3()\n",
    "        sequence = sample_sequences[dist][length]\n",
    "        algo.set_constants(np.random.default_rng(), sample_sequences[dist][length])\n",
    "        print(\"\\n\")\n",
    "        print(length, \"d:\", sequence.d, \"K:\", sequence.actionset.K, \"m:\", sequence.actionset.m)\n",
    "        #print(f\"{sequence.K}/{algo.beta}*{algo.gamma}*{sequence.lambda_min}\")\n",
    "        print(\"gamma\", results[dist][\"100000\"][\"FullBanditExp3Inv\"][\"gamma\"][0], \"M\", algo.M)\n",
    "        for algo_name in results[dist][length].keys():\n",
    "            single_result = results[dist][length][algo_name]\n",
    "            print(algo_name, \"regret:\", np.average(single_result[\"regret\"]), np.std(single_result[\"regret\"]), np.average(single_result[\"time_elapsed\"]))\n"
   ]
  },
  {
   "cell_type": "code",
   "execution_count": 5,
   "metadata": {},
   "outputs": [
    {
     "ename": "OSError",
     "evalue": "output/BinaryContext1;3_IndependentBernoulli5;3/10000/0/FullBanditExp3Inv_probability_array.csv not found.",
     "output_type": "error",
     "traceback": [
      "\u001b[1;31m---------------------------------------------------------------------------\u001b[0m",
      "\u001b[1;31mOSError\u001b[0m                                   Traceback (most recent call last)",
      "\u001b[1;32m<ipython-input-5-41aeb1d12f38>\u001b[0m in \u001b[0;36m<module>\u001b[1;34m\u001b[0m\n\u001b[0;32m      2\u001b[0m \u001b[1;33m\u001b[0m\u001b[0m\n\u001b[0;32m      3\u001b[0m \u001b[1;32mfor\u001b[0m \u001b[0malgo\u001b[0m \u001b[1;32min\u001b[0m \u001b[0malgo_names\u001b[0m\u001b[1;33m:\u001b[0m\u001b[1;33m\u001b[0m\u001b[1;33m\u001b[0m\u001b[0m\n\u001b[1;32m----> 4\u001b[1;33m     \u001b[0mdata\u001b[0m \u001b[1;33m=\u001b[0m \u001b[0mnp\u001b[0m\u001b[1;33m.\u001b[0m\u001b[0mloadtxt\u001b[0m\u001b[1;33m(\u001b[0m\u001b[1;34mf\"output/BinaryContext1;3_IndependentBernoulli5;3/10000/0/{algo}_probability_array.csv\"\u001b[0m\u001b[1;33m)\u001b[0m\u001b[1;33m[\u001b[0m\u001b[1;33m:\u001b[0m\u001b[1;33m,\u001b[0m \u001b[1;36m0\u001b[0m\u001b[1;33m]\u001b[0m\u001b[1;33m\u001b[0m\u001b[1;33m\u001b[0m\u001b[0m\n\u001b[0m\u001b[0;32m      5\u001b[0m     \u001b[0maxs\u001b[0m\u001b[1;33m.\u001b[0m\u001b[0mplot\u001b[0m\u001b[1;33m(\u001b[0m\u001b[0mdata\u001b[0m\u001b[1;33m,\u001b[0m \u001b[0mlabel\u001b[0m\u001b[1;33m=\u001b[0m\u001b[0malgo\u001b[0m\u001b[1;33m)\u001b[0m\u001b[1;33m\u001b[0m\u001b[1;33m\u001b[0m\u001b[0m\n\u001b[0;32m      6\u001b[0m \u001b[1;33m\u001b[0m\u001b[0m\n",
      "\u001b[1;32mc:\\Users\\Lukas\\AppData\\Local\\Programs\\Python\\Python38\\lib\\site-packages\\numpy\\lib\\npyio.py\u001b[0m in \u001b[0;36mloadtxt\u001b[1;34m(fname, dtype, comments, delimiter, converters, skiprows, usecols, unpack, ndmin, encoding, max_rows)\u001b[0m\n\u001b[0;32m    959\u001b[0m             \u001b[0mfname\u001b[0m \u001b[1;33m=\u001b[0m \u001b[0mos_fspath\u001b[0m\u001b[1;33m(\u001b[0m\u001b[0mfname\u001b[0m\u001b[1;33m)\u001b[0m\u001b[1;33m\u001b[0m\u001b[1;33m\u001b[0m\u001b[0m\n\u001b[0;32m    960\u001b[0m         \u001b[1;32mif\u001b[0m \u001b[0m_is_string_like\u001b[0m\u001b[1;33m(\u001b[0m\u001b[0mfname\u001b[0m\u001b[1;33m)\u001b[0m\u001b[1;33m:\u001b[0m\u001b[1;33m\u001b[0m\u001b[1;33m\u001b[0m\u001b[0m\n\u001b[1;32m--> 961\u001b[1;33m             \u001b[0mfh\u001b[0m \u001b[1;33m=\u001b[0m \u001b[0mnp\u001b[0m\u001b[1;33m.\u001b[0m\u001b[0mlib\u001b[0m\u001b[1;33m.\u001b[0m\u001b[0m_datasource\u001b[0m\u001b[1;33m.\u001b[0m\u001b[0mopen\u001b[0m\u001b[1;33m(\u001b[0m\u001b[0mfname\u001b[0m\u001b[1;33m,\u001b[0m \u001b[1;34m'rt'\u001b[0m\u001b[1;33m,\u001b[0m \u001b[0mencoding\u001b[0m\u001b[1;33m=\u001b[0m\u001b[0mencoding\u001b[0m\u001b[1;33m)\u001b[0m\u001b[1;33m\u001b[0m\u001b[1;33m\u001b[0m\u001b[0m\n\u001b[0m\u001b[0;32m    962\u001b[0m             \u001b[0mfencoding\u001b[0m \u001b[1;33m=\u001b[0m \u001b[0mgetattr\u001b[0m\u001b[1;33m(\u001b[0m\u001b[0mfh\u001b[0m\u001b[1;33m,\u001b[0m \u001b[1;34m'encoding'\u001b[0m\u001b[1;33m,\u001b[0m \u001b[1;34m'latin1'\u001b[0m\u001b[1;33m)\u001b[0m\u001b[1;33m\u001b[0m\u001b[1;33m\u001b[0m\u001b[0m\n\u001b[0;32m    963\u001b[0m             \u001b[0mfh\u001b[0m \u001b[1;33m=\u001b[0m \u001b[0miter\u001b[0m\u001b[1;33m(\u001b[0m\u001b[0mfh\u001b[0m\u001b[1;33m)\u001b[0m\u001b[1;33m\u001b[0m\u001b[1;33m\u001b[0m\u001b[0m\n",
      "\u001b[1;32mc:\\Users\\Lukas\\AppData\\Local\\Programs\\Python\\Python38\\lib\\site-packages\\numpy\\lib\\_datasource.py\u001b[0m in \u001b[0;36mopen\u001b[1;34m(path, mode, destpath, encoding, newline)\u001b[0m\n\u001b[0;32m    193\u001b[0m \u001b[1;33m\u001b[0m\u001b[0m\n\u001b[0;32m    194\u001b[0m     \u001b[0mds\u001b[0m \u001b[1;33m=\u001b[0m \u001b[0mDataSource\u001b[0m\u001b[1;33m(\u001b[0m\u001b[0mdestpath\u001b[0m\u001b[1;33m)\u001b[0m\u001b[1;33m\u001b[0m\u001b[1;33m\u001b[0m\u001b[0m\n\u001b[1;32m--> 195\u001b[1;33m     \u001b[1;32mreturn\u001b[0m \u001b[0mds\u001b[0m\u001b[1;33m.\u001b[0m\u001b[0mopen\u001b[0m\u001b[1;33m(\u001b[0m\u001b[0mpath\u001b[0m\u001b[1;33m,\u001b[0m \u001b[0mmode\u001b[0m\u001b[1;33m,\u001b[0m \u001b[0mencoding\u001b[0m\u001b[1;33m=\u001b[0m\u001b[0mencoding\u001b[0m\u001b[1;33m,\u001b[0m \u001b[0mnewline\u001b[0m\u001b[1;33m=\u001b[0m\u001b[0mnewline\u001b[0m\u001b[1;33m)\u001b[0m\u001b[1;33m\u001b[0m\u001b[1;33m\u001b[0m\u001b[0m\n\u001b[0m\u001b[0;32m    196\u001b[0m \u001b[1;33m\u001b[0m\u001b[0m\n\u001b[0;32m    197\u001b[0m \u001b[1;33m\u001b[0m\u001b[0m\n",
      "\u001b[1;32mc:\\Users\\Lukas\\AppData\\Local\\Programs\\Python\\Python38\\lib\\site-packages\\numpy\\lib\\_datasource.py\u001b[0m in \u001b[0;36mopen\u001b[1;34m(self, path, mode, encoding, newline)\u001b[0m\n\u001b[0;32m    533\u001b[0m                                       encoding=encoding, newline=newline)\n\u001b[0;32m    534\u001b[0m         \u001b[1;32melse\u001b[0m\u001b[1;33m:\u001b[0m\u001b[1;33m\u001b[0m\u001b[1;33m\u001b[0m\u001b[0m\n\u001b[1;32m--> 535\u001b[1;33m             \u001b[1;32mraise\u001b[0m \u001b[0mIOError\u001b[0m\u001b[1;33m(\u001b[0m\u001b[1;34m\"%s not found.\"\u001b[0m \u001b[1;33m%\u001b[0m \u001b[0mpath\u001b[0m\u001b[1;33m)\u001b[0m\u001b[1;33m\u001b[0m\u001b[1;33m\u001b[0m\u001b[0m\n\u001b[0m\u001b[0;32m    536\u001b[0m \u001b[1;33m\u001b[0m\u001b[0m\n\u001b[0;32m    537\u001b[0m \u001b[1;33m\u001b[0m\u001b[0m\n",
      "\u001b[1;31mOSError\u001b[0m: output/BinaryContext1;3_IndependentBernoulli5;3/10000/0/FullBanditExp3Inv_probability_array.csv not found."
     ]
    },
    {
     "data": {
      "image/png": "[encoded data removed]",
      "text/plain": [
       "<Figure size 1080x1080 with 1 Axes>"
      ]
     },
     "metadata": {
      "needs_background": "light"
     },
     "output_type": "display_data"
    }
   ],
   "source": [
    "fig, axs = plt.subplots(figsize=(15, 15))\n",
    "\n",
    "for algo in algo_names:\n",
    "    data = np.loadtxt(f\"output/BinaryContext1;3_IndependentBernoulli5;3/10000/0/{algo}_probability_array.csv\")[:, 0]\n",
    "    axs.plot(data, label=algo)\n",
    "\n",
    "fig.legend()\n",
    "fig.show()"
   ]
  },
  {
   "cell_type": "code",
   "execution_count": null,
   "metadata": {},
   "outputs": [],
   "source": [
    "for name in [\"FullBanditExp3\"]:\n",
    "    for length in results[name].keys():\n",
    "        single_result = results[name][length]\n",
    "        sequence = single_result[\"sequences\"][0]\n",
    "\n",
    "        theo = theoretical_bound(int(length), sequence)\n",
    "        print(name, length, \"regret:\", np.average(single_result[\"regret\"]), f\"({theo:.2f})\")\n",
    "\n",
    "        data = single_result[\"probability_array\"][:, :, 0]\n",
    "\n",
    "        data1 = data[:, sequence.contexts[:-1, 0].astype(bool)]\n",
    "        data2 = data[:, ~sequence.contexts[:-1, 0].astype(bool)]\n",
    "\n",
    "        dataframe = pd.DataFrame(data1).melt()\n",
    "        sns.lineplot(data=dataframe, x=\"variable\", y=\"value\", label=\"context 1\")\n",
    "        dataframe = pd.DataFrame(data2).melt()\n",
    "        sns.lineplot(data=dataframe, x=\"variable\", y=\"value\", label=\"context 2\")\n",
    "\n"
   ]
  },
  {
   "cell_type": "code",
   "execution_count": null,
   "metadata": {},
   "outputs": [],
   "source": []
  }
 ],
 "metadata": {
  "kernelspec": {
   "display_name": "Python 3.8.6 64-bit",
   "language": "python",
   "name": "python3"
  },
  "language_info": {
   "codemirror_mode": {
    "name": "ipython",
    "version": 3
   },
   "file_extension": ".py",
   "mimetype": "text/x-python",
   "name": "python",
   "nbconvert_exporter": "python",
   "pygments_lexer": "ipython3",
   "version": "3.8.6"
  },
  "orig_nbformat": 4,
  "vscode": {
   "interpreter": {
    "hash": "52279f95a71c719c29b46e6649e7c2848e29d27590516e424c9feb43371b1514"
   }
  }
 },
 "nbformat": 4,
 "nbformat_minor": 2
}
