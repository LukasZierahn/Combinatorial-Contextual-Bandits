{
 "cells": [
  {
   "cell_type": "code",
   "execution_count": 4,
   "metadata": {},
   "outputs": [],
   "source": [
    "import numpy as np\n",
    "\n",
    "import itertools"
   ]
  },
  {
   "cell_type": "code",
   "execution_count": 5,
   "metadata": {},
   "outputs": [
    {
     "name": "stdout",
     "output_type": "stream",
     "text": [
      "trying perm abcd (0, 1, 2, 3) False\n",
      "trying perm abdc (0, 1, 3, 2) False\n",
      "trying perm acbd (0, 2, 1, 3) False\n",
      "trying perm acdb (0, 2, 3, 1) False\n",
      "trying perm adbc (0, 3, 1, 2) False\n",
      "trying perm adcb (0, 3, 2, 1) False\n",
      "trying perm bacd (1, 0, 2, 3) False\n",
      "trying perm badc (1, 0, 3, 2) False\n",
      "trying perm bcad (1, 2, 0, 3) False\n",
      "trying perm bcda (1, 2, 3, 0) False\n",
      "trying perm bdac (1, 3, 0, 2) False\n",
      "trying perm bdca (1, 3, 2, 0) False\n",
      "trying perm cabd (2, 0, 1, 3) False\n",
      "trying perm cadb (2, 0, 3, 1) True\n",
      "trying perm cbad (2, 1, 0, 3) False\n",
      "trying perm cbda (2, 1, 3, 0) True\n",
      "trying perm cdab (2, 3, 0, 1) False\n",
      "trying perm cdba (2, 3, 1, 0) False\n",
      "trying perm dabc (3, 0, 1, 2) False\n",
      "trying perm dacb (3, 0, 2, 1) True\n",
      "trying perm dbac (3, 1, 0, 2) False\n",
      "trying perm dbca (3, 1, 2, 0) True\n",
      "trying perm dcab (3, 2, 0, 1) False\n",
      "trying perm dcba (3, 2, 1, 0) False\n"
     ]
    }
   ],
   "source": [
    "d = 10\n",
    "K = 20\n",
    "\n",
    "contexts = np.zeros((d,d))\n",
    "for i in range(d):\n",
    "    contexts[i, i] = 1\n",
    "\n",
    "actions = np.zeros((K,K))\n",
    "for i in range(K):\n",
    "    actions[i, i] = 1\n",
    "\n",
    "\n",
    "answer_dict = {}\n",
    "for context in contexts:\n",
    "    for action in actions:\n",
    "        key = str(context) + str(action)\n",
    "        buffer = np.zeros((d * K, d * K))\n",
    "        x = np.where(context)[0] + np.where(action)[0] * d\n",
    "        buffer[x,x] = 1\n",
    "        answer_dict[key] = buffer\n",
    "\n",
    "perms = list(itertools.permutations(np.arange(4)))\n",
    "\n",
    "letters = np.array([\"a\", \"b\", \"c\", \"d\"])\n",
    "\n",
    "def works(string):\n",
    "    for context in contexts:\n",
    "        for action in actions:\n",
    "            tensor = np.einsum(f\"a,b,c,d->{string}\", context, context, action,  action)\n",
    "            key = str(context) + str(action)\n",
    "            if not np.all(tensor.reshape(d * K, d * K) == answer_dict[key]):\n",
    "                return False\n",
    "    return True\n",
    "\n",
    "for perm in perms:\n",
    "    string = \"\"\n",
    "    for index in perm:\n",
    "        string += letters[index]\n",
    "    print(\"trying perm\", string, perm, works(string))\n"
   ]
  },
  {
   "cell_type": "code",
   "execution_count": null,
   "metadata": {},
   "outputs": [],
   "source": []
  }
 ],
 "metadata": {
  "kernelspec": {
   "display_name": "Python 3.8.3 64-bit",
   "language": "python",
   "name": "python3"
  },
  "language_info": {
   "codemirror_mode": {
    "name": "ipython",
    "version": 3
   },
   "file_extension": ".py",
   "mimetype": "text/x-python",
   "name": "python",
   "nbconvert_exporter": "python",
   "pygments_lexer": "ipython3",
   "version": "3.8.3"
  },
  "orig_nbformat": 4,
  "vscode": {
   "interpreter": {
    "hash": "aee8b7b246df8f9039afb4144a1f6fd8d2ca17a180786b69acc140d282b71a49"
   }
  }
 },
 "nbformat": 4,
 "nbformat_minor": 2
}
